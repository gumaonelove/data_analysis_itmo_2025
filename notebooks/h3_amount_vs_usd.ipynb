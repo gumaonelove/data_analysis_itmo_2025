{
 "cells": [
  {
   "cell_type": "markdown",
   "metadata": {},
   "source": [
    "# H3: Amount vs Amount_USD\n",
    "\n",
    "**H3 (Tech):** Конвертация сумм в USD улучшает стабильность модели и переносимость порогов.\n"
   ]
  },
  {
   "cell_type": "code",
   "execution_count": 1,
   "metadata": {},
   "outputs": [
    {
     "name": "stdout",
     "output_type": "stream",
     "text": [
      "Project root: /Users/gumerovbr/Documents/GitHub/data_analysis_itmo_2025\n"
     ]
    }
   ],
   "source": [
    "import sys\n",
    "from pathlib import Path\n",
    "ROOT = Path().resolve()\n",
    "if not (ROOT/'src').exists(): ROOT = ROOT.parent\n",
    "sys.path.insert(0, str(ROOT))\n",
    "print('Project root:', ROOT)\n"
   ]
  },
  {
   "cell_type": "code",
   "execution_count": 2,
   "metadata": {},
   "outputs": [
    {
     "name": "stderr",
     "output_type": "stream",
     "text": [
      "/Users/gumerovbr/Documents/GitHub/data_analysis_itmo_2025/.venv/lib/python3.9/site-packages/sklearn/linear_model/_linear_loss.py:209: RuntimeWarning: divide by zero encountered in matmul\n",
      "  norm2_w = weights @ weights if weights.ndim == 1 else squared_norm(weights)\n",
      "/Users/gumerovbr/Documents/GitHub/data_analysis_itmo_2025/.venv/lib/python3.9/site-packages/sklearn/linear_model/_linear_loss.py:209: RuntimeWarning: overflow encountered in matmul\n",
      "  norm2_w = weights @ weights if weights.ndim == 1 else squared_norm(weights)\n",
      "/Users/gumerovbr/Documents/GitHub/data_analysis_itmo_2025/.venv/lib/python3.9/site-packages/sklearn/linear_model/_linear_loss.py:209: RuntimeWarning: invalid value encountered in matmul\n",
      "  norm2_w = weights @ weights if weights.ndim == 1 else squared_norm(weights)\n",
      "/Users/gumerovbr/Documents/GitHub/data_analysis_itmo_2025/.venv/lib/python3.9/site-packages/sklearn/linear_model/_linear_loss.py:209: RuntimeWarning: divide by zero encountered in matmul\n",
      "  norm2_w = weights @ weights if weights.ndim == 1 else squared_norm(weights)\n",
      "/Users/gumerovbr/Documents/GitHub/data_analysis_itmo_2025/.venv/lib/python3.9/site-packages/sklearn/linear_model/_linear_loss.py:209: RuntimeWarning: overflow encountered in matmul\n",
      "  norm2_w = weights @ weights if weights.ndim == 1 else squared_norm(weights)\n",
      "/Users/gumerovbr/Documents/GitHub/data_analysis_itmo_2025/.venv/lib/python3.9/site-packages/sklearn/linear_model/_linear_loss.py:209: RuntimeWarning: invalid value encountered in matmul\n",
      "  norm2_w = weights @ weights if weights.ndim == 1 else squared_norm(weights)\n"
     ]
    }
   ],
   "source": [
    "import pandas as pd, numpy as np\n",
    "from pathlib import Path\n",
    "from sklearn.pipeline import Pipeline\n",
    "from src.data import load_transactions, load_fx\n",
    "from src.currency import convert_to_usd\n",
    "from src.features import unpack_last_hour_activity, add_basic_time_features\n",
    "from src.validation import split_time_aware\n",
    "from src.pipeline import build_preprocessor, build_logreg\n",
    "from src.eval import eval_pack\n",
    "\n",
    "DATA=Path('../data'); TX=DATA/'transaction_fraud_data.parquet'; FX=DATA/'historical_currency_exchange.parquet'\n",
    "df_raw = load_transactions(TX); fx = load_fx(FX)\n",
    "df_usd = convert_to_usd(df_raw, fx); df_usd = unpack_last_hour_activity(df_usd); df_usd = add_basic_time_features(df_usd)\n",
    "\n",
    "def train_eval(df_in, use_usd=True):\n",
    "    cols = df_in.columns.tolist()\n",
    "    keep = [c for c in cols if c != ('amount_usd' if not use_usd else 'amount')]\n",
    "    d = df_in[keep].copy()\n",
    "    train, test = split_time_aware(d)\n",
    "    y_tr, y_te = train['is_fraud'].astype(int), test['is_fraud'].astype(int)\n",
    "    X_tr, X_te = train.drop(columns=['is_fraud']), test.drop(columns=['is_fraud'])\n",
    "    pipe = Pipeline([('prep', build_preprocessor(X_tr)), ('clf', build_logreg())]).fit(X_tr, y_tr)\n",
    "    p = pipe.predict_proba(X_te)[:,1]\n",
    "    return y_te, p\n",
    "\n",
    "yA, pA = train_eval(df_usd, use_usd=False)  # amount\n",
    "yB, pB = train_eval(df_usd, use_usd=True)   # amount_usd"
   ]
  },
  {
   "cell_type": "code",
   "execution_count": 3,
   "id": "61a7815c",
   "metadata": {},
   "outputs": [
    {
     "name": "stdout",
     "output_type": "stream",
     "text": [
      "amount: {'roc_auc': 0.5001122214983779, 'pr_auc': 0.1980998640895631, 'threshold_at_precision': 0.9, 'thr_value': None, 'recall_at_precision': None, 'precision_achieved': None}\n",
      "amount_usd: {'roc_auc': 0.5001122265735541, 'pr_auc': 0.19809986674291455, 'threshold_at_precision': 0.9, 'thr_value': None, 'recall_at_precision': None, 'precision_achieved': None}\n"
     ]
    }
   ],
   "source": [
    "print(f'amount: {eval_pack(yA, pA)}')\n",
    "print(f'amount_usd: { eval_pack(yB, pB)}')"
   ]
  },
  {
   "cell_type": "markdown",
   "id": "720ab457",
   "metadata": {},
   "source": [
    "### Выводы по H3 (нормализация сумм в USD)\n",
    "\n",
    "**Факт сравнения**\n",
    "- Качество моделей на `amount` и `amount_usd` практически идентично:\n",
    "  - `amount`: ROC-AUC ≈ **0.5001**, PR-AUC ≈ **0.19810**, порог при Precision≥0.90 — **не найден**.\n",
    "  - `amount_usd`: ROC-AUC ≈ **0.5001**, PR-AUC ≈ **0.19810**, порог при Precision≥0.90 — **не найден**.\n",
    "- ∆PR-AUC пренебрежимо мала (на уровне 1e-6): нормализация **не повлияла** на качество.\n",
    "\n",
    "**Интерпретация**\n",
    "- На текущем срезе данных нормализация валют **не даёт измеримого эффекта**. Возможные причины:\n",
    "  1. Преобладание транзакций в **USD** → `amount ≈ amount_usd`.\n",
    "  2. **Неверная ориентация курса** (деление вместо умножения, или наоборот) → фактически не меняем масштаб.\n",
    "  3. **Пробелы в FX-join** (много `rate_to_currency = NaN` с последующей импутацией) → сигнал по сумме «схлопнут».\n",
    "  4. Несостыковка по **дате/часовому поясу** (курс берётся на соседнюю дату).\n",
    "\n",
    "**Рекомендации на следующую итерацию**\n",
    "1. **Проверка данных FX/конверсии**\n",
    "   - Доля не-USD транзакций и распределение `currency`.\n",
    "   - Покрытие join: `% notnull(rate_to_currency)` по датам/валютам; при необходимости — `ffill` по дате.\n",
    "   - Валидация формулы: если столбцы — *кол-во единиц валюты за 1 USD*, то `amount_usd = amount / rate`; если *USD за 1 единицу валюты*, то `amount_usd = amount * rate`.\n",
    "2. **Оценка стабильноcти между странами**\n",
    "   - PSI/JS для `amount` vs `amount_usd` по странам; цель — снижение дивергенции после нормализации.\n",
    "   - Переносимость глобального порога: отклонение Precision/Recall при переносе порога из страны A в B (нормализация должна уменьшать разброс).\n",
    "3. **Усиление «суммовых» фичей**\n",
    "   - `log1p(amount_usd)`, каппинг хвостов (P99–P99.5).\n",
    "   - Относительные признаки: отношение суммы к медиане трат клиента/карты/устройства, Z/MAD-скор.\n",
    "   - Взаимодействия с CNP, cross-border, high-risk vendor.\n",
    "\n",
    "**Итог по H3:** на данном прогоне гипотеза **не подтверждена**. Смысл нормализации появится, если существенна доля не-USD операций и корректно реализован FX-join; в противном случае эффект минимален."
   ]
  },
  {
   "cell_type": "markdown",
   "id": "bf74b4c0",
   "metadata": {},
   "source": []
  }
 ],
 "metadata": {
  "kernelspec": {
   "display_name": ".venv",
   "language": "python",
   "name": "python3"
  },
  "language_info": {
   "codemirror_mode": {
    "name": "ipython",
    "version": 3
   },
   "file_extension": ".py",
   "mimetype": "text/x-python",
   "name": "python",
   "nbconvert_exporter": "python",
   "pygments_lexer": "ipython3",
   "version": "3.9.6"
  }
 },
 "nbformat": 4,
 "nbformat_minor": 5
}
