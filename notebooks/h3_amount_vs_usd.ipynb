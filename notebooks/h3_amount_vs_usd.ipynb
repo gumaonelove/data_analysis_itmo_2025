{
 "cells": [
  {
   "cell_type": "markdown",
   "metadata": {},
   "source": [
    "# H3: Amount vs Amount_USD\n",
    "\n",
    "**H3 (Tech):** Конвертация сумм в USD улучшает стабильность модели и переносимость порогов.\n"
   ]
  },
  {
   "cell_type": "code",
   "execution_count": 1,
   "metadata": {},
   "outputs": [
    {
     "name": "stdout",
     "output_type": "stream",
     "text": [
      "Project root: /Users/gumerovbr/Documents/GitHub/data_analysis_itmo_2025\n"
     ]
    }
   ],
   "source": [
    "import sys\n",
    "from pathlib import Path\n",
    "ROOT = Path().resolve()\n",
    "if not (ROOT/'src').exists(): ROOT = ROOT.parent\n",
    "sys.path.insert(0, str(ROOT))\n",
    "print('Project root:', ROOT)\n"
   ]
  },
  {
   "cell_type": "code",
   "execution_count": 2,
   "metadata": {},
   "outputs": [
    {
     "name": "stderr",
     "output_type": "stream",
     "text": [
      "/Users/gumerovbr/Documents/GitHub/data_analysis_itmo_2025/.venv/lib/python3.9/site-packages/sklearn/linear_model/_linear_loss.py:209: RuntimeWarning: divide by zero encountered in matmul\n",
      "  norm2_w = weights @ weights if weights.ndim == 1 else squared_norm(weights)\n",
      "/Users/gumerovbr/Documents/GitHub/data_analysis_itmo_2025/.venv/lib/python3.9/site-packages/sklearn/linear_model/_linear_loss.py:209: RuntimeWarning: overflow encountered in matmul\n",
      "  norm2_w = weights @ weights if weights.ndim == 1 else squared_norm(weights)\n",
      "/Users/gumerovbr/Documents/GitHub/data_analysis_itmo_2025/.venv/lib/python3.9/site-packages/sklearn/linear_model/_linear_loss.py:209: RuntimeWarning: invalid value encountered in matmul\n",
      "  norm2_w = weights @ weights if weights.ndim == 1 else squared_norm(weights)\n",
      "/Users/gumerovbr/Documents/GitHub/data_analysis_itmo_2025/.venv/lib/python3.9/site-packages/sklearn/linear_model/_linear_loss.py:209: RuntimeWarning: divide by zero encountered in matmul\n",
      "  norm2_w = weights @ weights if weights.ndim == 1 else squared_norm(weights)\n",
      "/Users/gumerovbr/Documents/GitHub/data_analysis_itmo_2025/.venv/lib/python3.9/site-packages/sklearn/linear_model/_linear_loss.py:209: RuntimeWarning: overflow encountered in matmul\n",
      "  norm2_w = weights @ weights if weights.ndim == 1 else squared_norm(weights)\n",
      "/Users/gumerovbr/Documents/GitHub/data_analysis_itmo_2025/.venv/lib/python3.9/site-packages/sklearn/linear_model/_linear_loss.py:209: RuntimeWarning: invalid value encountered in matmul\n",
      "  norm2_w = weights @ weights if weights.ndim == 1 else squared_norm(weights)\n"
     ]
    }
   ],
   "source": [
    "import pandas as pd, numpy as np\n",
    "from pathlib import Path\n",
    "from sklearn.pipeline import Pipeline\n",
    "from src.data import load_transactions, load_fx\n",
    "from src.currency import convert_to_usd\n",
    "from src.features import unpack_last_hour_activity, add_basic_time_features\n",
    "from src.validation import split_time_aware\n",
    "from src.pipeline import build_preprocessor, build_logreg\n",
    "from src.eval import eval_pack\n",
    "\n",
    "DATA=Path('../data'); TX=DATA/'transaction_fraud_data.parquet'; FX=DATA/'historical_currency_exchange.parquet'\n",
    "df_raw = load_transactions(TX); fx = load_fx(FX)\n",
    "df_usd = convert_to_usd(df_raw, fx); df_usd = unpack_last_hour_activity(df_usd); df_usd = add_basic_time_features(df_usd)\n",
    "\n",
    "def train_eval(df_in, use_usd=True):\n",
    "    cols = df_in.columns.tolist()\n",
    "    keep = [c for c in cols if c != ('amount_usd' if not use_usd else 'amount')]\n",
    "    d = df_in[keep].copy()\n",
    "    train, test = split_time_aware(d)\n",
    "    y_tr, y_te = train['is_fraud'].astype(int), test['is_fraud'].astype(int)\n",
    "    X_tr, X_te = train.drop(columns=['is_fraud']), test.drop(columns=['is_fraud'])\n",
    "    pipe = Pipeline([('prep', build_preprocessor(X_tr)), ('clf', build_logreg())]).fit(X_tr, y_tr)\n",
    "    p = pipe.predict_proba(X_te)[:,1]\n",
    "    return y_te, p\n",
    "\n",
    "yA, pA = train_eval(df_usd, use_usd=False)  # amount\n",
    "yB, pB = train_eval(df_usd, use_usd=True)   # amount_usd"
   ]
  },
  {
   "cell_type": "code",
   "execution_count": 3,
   "id": "61a7815c",
   "metadata": {},
   "outputs": [
    {
     "name": "stdout",
     "output_type": "stream",
     "text": [
      "amount: {'roc_auc': 0.9031792506689108, 'pr_auc': 0.8419896250739393, 'threshold_at_precision': 0.9, 'thr_value': 0.961925570155691, 'recall_at_precision': 0.6503379745810735, 'precision_achieved': 0.9}\n",
      "amount_usd: {'roc_auc': 0.9163088167066666, 'pr_auc': 0.8609266057049232, 'threshold_at_precision': 0.9, 'thr_value': 0.09913382659583368, 'recall_at_precision': 0.6920653552443401, 'precision_achieved': 0.9000021932229411}\n"
     ]
    }
   ],
   "source": [
    "print(f'amount: {eval_pack(yA, pA)}')\n",
    "print(f'amount_usd: { eval_pack(yB, pB)}')"
   ]
  },
  {
   "cell_type": "markdown",
   "id": "bfa8fdcc",
   "metadata": {},
   "source": [
    "Ниже — краткий вывод и сразу практические улучшения эксперимента.\n",
    "\n",
    "Результат H3 (итоги)\n",
    "\t•\tКачество ↑: ROC AUC +1.31 п.п. (0.9032 → 0.9163), PR AUC +1.89 п.п. (0.8420 → 0.8609).\n",
    "\t•\tОперационная метрика ↑: Recall@P=0.90 +4.17 п.п. (0.6503 → 0.6921).\n",
    "\t•\tПорог вероятности резко «сдвинулся» (0.962 → 0.099), что подчёркивает: фиксировать числовой порог нельзя; переносить следует целевую точность (например, P=0.90) после калибровки.\n",
    "\n",
    "Вывод: H3 подтверждается по качеству; для заявления о «переносимости порога» нужна проверка стабильности целевой точки (P=0.90) во времени/валютах."
   ]
  }
 ],
 "metadata": {
  "kernelspec": {
   "display_name": ".venv",
   "language": "python",
   "name": "python3"
  },
  "language_info": {
   "codemirror_mode": {
    "name": "ipython",
    "version": 3
   },
   "file_extension": ".py",
   "mimetype": "text/x-python",
   "name": "python",
   "nbconvert_exporter": "python",
   "pygments_lexer": "ipython3",
   "version": "3.9.6"
  }
 },
 "nbformat": 4,
 "nbformat_minor": 5
}
