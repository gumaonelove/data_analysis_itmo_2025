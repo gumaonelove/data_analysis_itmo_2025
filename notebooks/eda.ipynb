{
 "cells": [
  {
   "cell_type": "markdown",
   "id": "7ba19f39",
   "metadata": {},
   "source": [
    "# EDA: Transaction Fraud Dataset\n",
    "В этом ноутбуке **только** EDA: загрузка, нормализация сумм в USD, распаковка вложенных полей, базовые срезы.\n"
   ]
  },
  {
   "cell_type": "code",
   "execution_count": 2,
   "id": "785ad221",
   "metadata": {},
   "outputs": [
    {
     "name": "stdout",
     "output_type": "stream",
     "text": [
      "Project root: /Users/gumerovbr/Documents/GitHub/data_analysis_itmo_2025\n"
     ]
    }
   ],
   "source": [
    "import sys\n",
    "from pathlib import Path\n",
    "ROOT = Path().resolve()\n",
    "if not (ROOT/'src').exists(): ROOT = ROOT.parent\n",
    "sys.path.insert(0, str(ROOT))\n",
    "print('Project root:', ROOT)\n"
   ]
  },
  {
   "cell_type": "code",
   "execution_count": 3,
   "id": "02590313",
   "metadata": {},
   "outputs": [
    {
     "data": {
      "text/html": [
       "<div>\n",
       "<style scoped>\n",
       "    .dataframe tbody tr th:only-of-type {\n",
       "        vertical-align: middle;\n",
       "    }\n",
       "\n",
       "    .dataframe tbody tr th {\n",
       "        vertical-align: top;\n",
       "    }\n",
       "\n",
       "    .dataframe thead th {\n",
       "        text-align: right;\n",
       "    }\n",
       "</style>\n",
       "<table border=\"1\" class=\"dataframe\">\n",
       "  <thead>\n",
       "    <tr style=\"text-align: right;\">\n",
       "      <th></th>\n",
       "      <th>transaction_id</th>\n",
       "      <th>customer_id</th>\n",
       "      <th>card_number</th>\n",
       "      <th>timestamp</th>\n",
       "      <th>vendor_category</th>\n",
       "      <th>vendor_type</th>\n",
       "      <th>vendor</th>\n",
       "      <th>amount</th>\n",
       "      <th>currency</th>\n",
       "      <th>country</th>\n",
       "      <th>...</th>\n",
       "      <th>rate_to_currency</th>\n",
       "      <th>amount_usd</th>\n",
       "      <th>last_hour_activity__num_transactions</th>\n",
       "      <th>last_hour_activity__total_amount</th>\n",
       "      <th>last_hour_activity__unique_merchants</th>\n",
       "      <th>last_hour_activity__unique_countries</th>\n",
       "      <th>last_hour_activity__max_single_amount</th>\n",
       "      <th>tx_hour</th>\n",
       "      <th>tx_dow</th>\n",
       "      <th>tx_month</th>\n",
       "    </tr>\n",
       "  </thead>\n",
       "  <tbody>\n",
       "    <tr>\n",
       "      <th>0</th>\n",
       "      <td>TX_a0ad2a2a</td>\n",
       "      <td>CUST_72886</td>\n",
       "      <td>6646734767813109</td>\n",
       "      <td>2024-09-30 00:00:01.034820</td>\n",
       "      <td>Restaurant</td>\n",
       "      <td>fast_food</td>\n",
       "      <td>Taco Bell</td>\n",
       "      <td>294.87</td>\n",
       "      <td>GBP</td>\n",
       "      <td>UK</td>\n",
       "      <td>...</td>\n",
       "      <td>0.747153</td>\n",
       "      <td>394.658011</td>\n",
       "      <td>1197</td>\n",
       "      <td>3.349856e+07</td>\n",
       "      <td>105</td>\n",
       "      <td>12</td>\n",
       "      <td>1.925481e+06</td>\n",
       "      <td>0</td>\n",
       "      <td>0</td>\n",
       "      <td>9</td>\n",
       "    </tr>\n",
       "    <tr>\n",
       "      <th>1</th>\n",
       "      <td>TX_3599c101</td>\n",
       "      <td>CUST_70474</td>\n",
       "      <td>376800864692727</td>\n",
       "      <td>2024-09-30 00:00:01.764464</td>\n",
       "      <td>Entertainment</td>\n",
       "      <td>gaming</td>\n",
       "      <td>Steam</td>\n",
       "      <td>3368.97</td>\n",
       "      <td>BRL</td>\n",
       "      <td>Brazil</td>\n",
       "      <td>...</td>\n",
       "      <td>5.434649</td>\n",
       "      <td>619.905757</td>\n",
       "      <td>509</td>\n",
       "      <td>2.011476e+07</td>\n",
       "      <td>100</td>\n",
       "      <td>12</td>\n",
       "      <td>5.149117e+06</td>\n",
       "      <td>0</td>\n",
       "      <td>0</td>\n",
       "      <td>9</td>\n",
       "    </tr>\n",
       "    <tr>\n",
       "      <th>2</th>\n",
       "      <td>TX_a9461c6d</td>\n",
       "      <td>CUST_10715</td>\n",
       "      <td>5251909460951913</td>\n",
       "      <td>2024-09-30 00:00:02.273762</td>\n",
       "      <td>Grocery</td>\n",
       "      <td>physical</td>\n",
       "      <td>Whole Foods</td>\n",
       "      <td>102582.38</td>\n",
       "      <td>JPY</td>\n",
       "      <td>Japan</td>\n",
       "      <td>...</td>\n",
       "      <td>142.573268</td>\n",
       "      <td>719.506409</td>\n",
       "      <td>332</td>\n",
       "      <td>3.916385e+07</td>\n",
       "      <td>97</td>\n",
       "      <td>12</td>\n",
       "      <td>1.852242e+06</td>\n",
       "      <td>0</td>\n",
       "      <td>0</td>\n",
       "      <td>9</td>\n",
       "    </tr>\n",
       "    <tr>\n",
       "      <th>3</th>\n",
       "      <td>TX_7be21fc4</td>\n",
       "      <td>CUST_16193</td>\n",
       "      <td>376079286931183</td>\n",
       "      <td>2024-09-30 00:00:02.297466</td>\n",
       "      <td>Gas</td>\n",
       "      <td>major</td>\n",
       "      <td>Exxon</td>\n",
       "      <td>630.60</td>\n",
       "      <td>AUD</td>\n",
       "      <td>Australia</td>\n",
       "      <td>...</td>\n",
       "      <td>1.443654</td>\n",
       "      <td>436.808287</td>\n",
       "      <td>764</td>\n",
       "      <td>2.201260e+07</td>\n",
       "      <td>105</td>\n",
       "      <td>12</td>\n",
       "      <td>2.055798e+06</td>\n",
       "      <td>0</td>\n",
       "      <td>0</td>\n",
       "      <td>9</td>\n",
       "    </tr>\n",
       "    <tr>\n",
       "      <th>4</th>\n",
       "      <td>TX_150f490b</td>\n",
       "      <td>CUST_87572</td>\n",
       "      <td>6172948052178810</td>\n",
       "      <td>2024-09-30 00:00:02.544063</td>\n",
       "      <td>Healthcare</td>\n",
       "      <td>medical</td>\n",
       "      <td>Medical Center</td>\n",
       "      <td>724949.27</td>\n",
       "      <td>NGN</td>\n",
       "      <td>Nigeria</td>\n",
       "      <td>...</td>\n",
       "      <td>1668.736400</td>\n",
       "      <td>434.430069</td>\n",
       "      <td>218</td>\n",
       "      <td>4.827636e+06</td>\n",
       "      <td>88</td>\n",
       "      <td>12</td>\n",
       "      <td>1.157231e+06</td>\n",
       "      <td>0</td>\n",
       "      <td>0</td>\n",
       "      <td>9</td>\n",
       "    </tr>\n",
       "  </tbody>\n",
       "</table>\n",
       "<p>5 rows × 33 columns</p>\n",
       "</div>"
      ],
      "text/plain": [
       "  transaction_id customer_id       card_number                  timestamp  \\\n",
       "0    TX_a0ad2a2a  CUST_72886  6646734767813109 2024-09-30 00:00:01.034820   \n",
       "1    TX_3599c101  CUST_70474   376800864692727 2024-09-30 00:00:01.764464   \n",
       "2    TX_a9461c6d  CUST_10715  5251909460951913 2024-09-30 00:00:02.273762   \n",
       "3    TX_7be21fc4  CUST_16193   376079286931183 2024-09-30 00:00:02.297466   \n",
       "4    TX_150f490b  CUST_87572  6172948052178810 2024-09-30 00:00:02.544063   \n",
       "\n",
       "  vendor_category vendor_type          vendor     amount currency    country  \\\n",
       "0      Restaurant   fast_food       Taco Bell     294.87      GBP         UK   \n",
       "1   Entertainment      gaming           Steam    3368.97      BRL     Brazil   \n",
       "2         Grocery    physical     Whole Foods  102582.38      JPY      Japan   \n",
       "3             Gas       major           Exxon     630.60      AUD  Australia   \n",
       "4      Healthcare     medical  Medical Center  724949.27      NGN    Nigeria   \n",
       "\n",
       "   ... rate_to_currency  amount_usd last_hour_activity__num_transactions  \\\n",
       "0  ...         0.747153  394.658011                                 1197   \n",
       "1  ...         5.434649  619.905757                                  509   \n",
       "2  ...       142.573268  719.506409                                  332   \n",
       "3  ...         1.443654  436.808287                                  764   \n",
       "4  ...      1668.736400  434.430069                                  218   \n",
       "\n",
       "   last_hour_activity__total_amount last_hour_activity__unique_merchants  \\\n",
       "0                      3.349856e+07                                  105   \n",
       "1                      2.011476e+07                                  100   \n",
       "2                      3.916385e+07                                   97   \n",
       "3                      2.201260e+07                                  105   \n",
       "4                      4.827636e+06                                   88   \n",
       "\n",
       "  last_hour_activity__unique_countries last_hour_activity__max_single_amount  \\\n",
       "0                                   12                          1.925481e+06   \n",
       "1                                   12                          5.149117e+06   \n",
       "2                                   12                          1.852242e+06   \n",
       "3                                   12                          2.055798e+06   \n",
       "4                                   12                          1.157231e+06   \n",
       "\n",
       "  tx_hour  tx_dow  tx_month  \n",
       "0       0       0         9  \n",
       "1       0       0         9  \n",
       "2       0       0         9  \n",
       "3       0       0         9  \n",
       "4       0       0         9  \n",
       "\n",
       "[5 rows x 33 columns]"
      ]
     },
     "execution_count": 3,
     "metadata": {},
     "output_type": "execute_result"
    }
   ],
   "source": [
    "import pandas as pd, numpy as np\n",
    "import matplotlib.pyplot as plt\n",
    "from pathlib import Path\n",
    "from src.data import load_transactions, load_fx\n",
    "from src.currency import convert_to_usd\n",
    "from src.features import unpack_last_hour_activity, add_basic_time_features\n",
    "\n",
    "DATA=Path('../data'); TX=DATA/'transaction_fraud_data.parquet'; FX=DATA/'historical_currency_exchange.parquet'\n",
    "\n",
    "df = load_transactions(TX)\n",
    "fx = load_fx(FX)\n",
    "df = convert_to_usd(df, fx)\n",
    "df = unpack_last_hour_activity(df)\n",
    "df = add_basic_time_features(df)\n",
    "df.head()\n"
   ]
  },
  {
   "cell_type": "markdown",
   "id": "f86a6227",
   "metadata": {},
   "source": [
    "## 1. Информация и пропуски\n",
    "\n",
    "### Что здесь делаем\n",
    "* Проверяем типы колонок, наличие вложенных структур и распределение пропусков.\n",
    "* Валидируем временные поля (timestamp) и ожидаемые домены категориальных полей.\n",
    "\n",
    "### На что обратить внимание\n",
    "* Атипичные типы (например, timestamp как строка).\n",
    "* Высокая доля NaN в критичных признаках (например, amount, currency, флаги риска).\n",
    "* Возможные дубликаты transaction_id.\n"
   ]
  },
  {
   "cell_type": "code",
   "execution_count": 5,
   "id": "c14218ec",
   "metadata": {},
   "outputs": [
    {
     "name": "stdout",
     "output_type": "stream",
     "text": [
      "<class 'pandas.core.frame.DataFrame'>\n",
      "RangeIndex: 7483766 entries, 0 to 7483765\n",
      "Data columns (total 33 columns):\n",
      " #   Column                                 Dtype         \n",
      "---  ------                                 -----         \n",
      " 0   transaction_id                         object        \n",
      " 1   customer_id                            object        \n",
      " 2   card_number                            int64         \n",
      " 3   timestamp                              datetime64[us]\n",
      " 4   vendor_category                        object        \n",
      " 5   vendor_type                            object        \n",
      " 6   vendor                                 object        \n",
      " 7   amount                                 float64       \n",
      " 8   currency                               object        \n",
      " 9   country                                object        \n",
      " 10  city                                   object        \n",
      " 11  city_size                              object        \n",
      " 12  card_type                              object        \n",
      " 13  is_card_present                        bool          \n",
      " 14  device                                 object        \n",
      " 15  channel                                object        \n",
      " 16  device_fingerprint                     object        \n",
      " 17  ip_address                             object        \n",
      " 18  is_outside_home_country                bool          \n",
      " 19  is_high_risk_vendor                    bool          \n",
      " 20  is_weekend                             bool          \n",
      " 21  is_fraud                               bool          \n",
      " 22  date                                   object        \n",
      " 23  rate_to_currency                       float64       \n",
      " 24  amount_usd                             float64       \n",
      " 25  last_hour_activity__num_transactions   int64         \n",
      " 26  last_hour_activity__total_amount       float64       \n",
      " 27  last_hour_activity__unique_merchants   int64         \n",
      " 28  last_hour_activity__unique_countries   int64         \n",
      " 29  last_hour_activity__max_single_amount  float64       \n",
      " 30  tx_hour                                int32         \n",
      " 31  tx_dow                                 int32         \n",
      " 32  tx_month                               int32         \n",
      "dtypes: bool(5), datetime64[us](1), float64(5), int32(3), int64(4), object(15)\n",
      "memory usage: 1.5+ GB\n"
     ]
    }
   ],
   "source": [
    "df.info()\n"
   ]
  },
  {
   "cell_type": "code",
   "execution_count": 6,
   "id": "63f1312e",
   "metadata": {},
   "outputs": [
    {
     "data": {
      "text/plain": [
       "transaction_id                           0.0\n",
       "ip_address                               0.0\n",
       "tx_dow                                   0.0\n",
       "tx_hour                                  0.0\n",
       "last_hour_activity__max_single_amount    0.0\n",
       "last_hour_activity__unique_countries     0.0\n",
       "last_hour_activity__unique_merchants     0.0\n",
       "last_hour_activity__total_amount         0.0\n",
       "last_hour_activity__num_transactions     0.0\n",
       "amount_usd                               0.0\n",
       "rate_to_currency                         0.0\n",
       "date                                     0.0\n",
       "is_fraud                                 0.0\n",
       "is_weekend                               0.0\n",
       "is_high_risk_vendor                      0.0\n",
       "is_outside_home_country                  0.0\n",
       "device_fingerprint                       0.0\n",
       "customer_id                              0.0\n",
       "channel                                  0.0\n",
       "device                                   0.0\n",
       "dtype: float64"
      ]
     },
     "execution_count": 6,
     "metadata": {},
     "output_type": "execute_result"
    }
   ],
   "source": [
    "df.isna().mean().sort_values(ascending=False).head(20)"
   ]
  },
  {
   "cell_type": "markdown",
   "id": "58488077",
   "metadata": {},
   "source": [
    "Пропусков в данных не обнаружено"
   ]
  },
  {
   "cell_type": "markdown",
   "id": "8a918eae",
   "metadata": {},
   "source": [
    "## 2. Баланс классов\n",
    "\n",
    "### Что здесь делаем\n",
    "* Оцениваем общий уровень дисбаланса классов (fraud rate).\n",
    "\n",
    "### Почему это важно\n",
    "* При сильном дисбалансе основная метрика — PR-AUC; ROC-AUC менее чувствительна.\n",
    "* Дисбаланс влияет на выбор стратегии валидации и пороговой политики (Precision-ориентированная)."
   ]
  },
  {
   "cell_type": "code",
   "execution_count": null,
   "id": "943c1e16",
   "metadata": {},
   "outputs": [
    {
     "name": "stdout",
     "output_type": "stream",
     "text": [
      "N=7,483,766\n",
      "fraud_rate= 0.19972818498066347\n"
     ]
    }
   ],
   "source": [
    "print(f\"N={len(df):,}\"); print('fraud_rate=', df['is_fraud'].mean())\n"
   ]
  },
  {
   "cell_type": "markdown",
   "id": "28f885bb",
   "metadata": {},
   "source": [
    "### Выводы по балансу классов\n",
    "\n",
    "**Факты**\n",
    "- Объем данных: **7 483 766** транзакций.\n",
    "- Доля мошенничества (**fraud_rate**): **19.97%** (≈ **1.49 млн** fraud vs **≈ 5.99 млн** legit).\n",
    "- Соотношение классов (legit:fraud) ≈ **4 : 1** — умеренный дисбаланс, не экстремальный.\n",
    "\n",
    "**Последствия для метрик и валидации**\n",
    "- Базовый уровень **PR-AUC** случайного классификатора равен доле позитивов, т.е. ~**0.20**; улучшения PR-AUC следует сравнивать именно с этим порогом.\n",
    "- **ROC-AUC** при таком дисбалансе может выглядеть «прилично», но бизнес-смысл отражает **PR-кривая** (Precision/Recall) — используем **PR-AUC** как основную метрику.\n",
    "- Для подбора порогов ориентируемся на **Precision ≥ 0.90** с мониторингом **Recall** и доли трафика, попадающего в step-up/ручную проверку.\n",
    "\n",
    "**Рекомендации к моделированию**\n",
    "- Умеренный дисбаланс позволяет избежать агрессивного oversampling/SMOTE; достаточно **class_weight='balanced'** или cost-sensitive подхода.\n",
    "- Разбиение — **time-based split** (без shuffle) для избежания утечки во времени.\n",
    "- Отдельно отслеживать метрики по ключевым сегментам (CNP, cross-border, high-risk vendor), т.к. при такой доле fraud нагрузка на фрикцию/ручную проверку может быстро расти при слишком низких порогах."
   ]
  },
  {
   "cell_type": "markdown",
   "id": "452677fd",
   "metadata": {},
   "source": [
    "## 3. Распределения сумм (USD)\n",
    "\n",
    "### Что здесь делаем\n",
    "* Смотрим распределение amount_usd после нормализации и грубые прокси скорости из last_hour_activity.* (корреляция с is_fraud).\n",
    "\n",
    "### Почему это важно\n",
    "* Экстремальные хвосты могут «таскать» модель; полезно будет каппинг/лог-преобразование.\n",
    "* Velocity-сигналы часто являются сильными предикторами мошенничества."
   ]
  },
  {
   "cell_type": "code",
   "execution_count": null,
   "id": "e7c16c37",
   "metadata": {},
   "outputs": [
    {
     "data": {
      "image/png": "[encoded data removed]",
      "text/plain": [
       "<Figure size 640x480 with 1 Axes>"
      ]
     },
     "metadata": {},
     "output_type": "display_data"
    }
   ],
   "source": [
    "df['amount_usd'].dropna().hist(bins=100); plt.title('Amount USD distribution'); plt.show()\n"
   ]
  },
  {
   "cell_type": "markdown",
   "id": "147e3c93",
   "metadata": {},
   "source": [
    "### Выводы по распределениям сумм (USD)\n",
    "\n",
    "**Наблюдения**\n",
    "- Распределение **сильно правостороннее (heavy-tail)**: подавляющее большинство транзакций — на малые суммы, но присутствует длинный хвост вплоть до крупных значений.\n",
    "- Видны локальные скопления на «круглых» величинах (ценовые якоря), что типично для ритейла/онлайна.\n",
    "- При такой форме распределения линейные модели и неустойчивые пороги по «сырым» суммам склонны к **нестабильности** и чувствительны к редким экстремумам.\n",
    "\n",
    "**Риски качества/обработки**\n",
    "- Хвостовые значения способны «перетягивать» обучение; без нормализации модель будет недооценивать слабые, но массовые паттерны.\n",
    "\n",
    "**Рекомендации по препроцессингу (для последующих экспериментов)**\n",
    "1. **Лог-преобразование**: использовать `log1p(amount_usd)` в моделях.\n",
    "2. **Каппинг хвостов**: winsorization на уровне **P99–P99.5** по `amount_usd` (проверить на валидации устойчивость PR-AUC).\n",
    "3. **Относительные признаки**: \n",
    "   - отношение суммы к «типичной» трате клиента/карты/устройства (медиана ± MAD за историю);\n",
    "   - отклонение от медианы в Z/MAD-скоринге.\n",
    "4. **Сегментные квантили** (для пороговой политики): хранить **P80/P90/P95** `amount_usd` среди **legit** отдельно для CNP, cross-border, high-risk vendor — пригодится для step-up/ручной проверки.\n",
    "5. **Проверки данных**:\n",
    "   - наличие/доля отрицательных сумм (refund/chargeback) и единая политика их обработки (фильтр или отдельный флаг).\n",
    "\n",
    "**Следующие шаги**\n",
    "- Зафиксировать набор квантилей (`P50/P90/P95/P99`) по `amount_usd` в отчёте EDA и использовать их в H2/H3 при настройке сегментных порогов.\n",
    "- Провести A/B на моделях: сырая сумма vs `log1p` + каппинг → сравнить **PR-AUC** и **Recall@Precision≥0.90** на time-split."
   ]
  },
  {
   "cell_type": "markdown",
   "id": "b94d4517",
   "metadata": {},
   "source": [
    "## 4. Fraud rate по категориям\n",
    "\n",
    "### Что здесь делаем\n",
    "* Считаем уровень мошенничества по ключевым категориям (вендор, канал, устройство и т.д.).\n",
    "\n",
    "### Почему это важно\n",
    "* Раннее выявление «токсичных» категорий позволяет настраивать сегментные пороги и правила.\n",
    "* Высокая кардинальность (например, vendor) требует аккуратного кодирования (target/WOE, hashing) без утечек.\n",
    "\n",
    "### Замечание\n",
    "* Для корректности полезно вводить минимальный порог по размеру группы (например, ≥200 наблюдений), чтобы не реагировать на шум в редких категориях."
   ]
  },
  {
   "cell_type": "code",
   "execution_count": 8,
   "id": "11faedd4",
   "metadata": {},
   "outputs": [
    {
     "data": {
      "text/html": [
       "<div>\n",
       "<style scoped>\n",
       "    .dataframe tbody tr th:only-of-type {\n",
       "        vertical-align: middle;\n",
       "    }\n",
       "\n",
       "    .dataframe tbody tr th {\n",
       "        vertical-align: top;\n",
       "    }\n",
       "\n",
       "    .dataframe thead th {\n",
       "        text-align: right;\n",
       "    }\n",
       "</style>\n",
       "<table border=\"1\" class=\"dataframe\">\n",
       "  <thead>\n",
       "    <tr style=\"text-align: right;\">\n",
       "      <th></th>\n",
       "      <th>fraud_rate</th>\n",
       "    </tr>\n",
       "    <tr>\n",
       "      <th>vendor_category</th>\n",
       "      <th></th>\n",
       "    </tr>\n",
       "  </thead>\n",
       "  <tbody>\n",
       "    <tr>\n",
       "      <th>Travel</th>\n",
       "      <td>0.200341</td>\n",
       "    </tr>\n",
       "    <tr>\n",
       "      <th>Grocery</th>\n",
       "      <td>0.200194</td>\n",
       "    </tr>\n",
       "    <tr>\n",
       "      <th>Gas</th>\n",
       "      <td>0.199731</td>\n",
       "    </tr>\n",
       "    <tr>\n",
       "      <th>Restaurant</th>\n",
       "      <td>0.199696</td>\n",
       "    </tr>\n",
       "    <tr>\n",
       "      <th>Entertainment</th>\n",
       "      <td>0.199632</td>\n",
       "    </tr>\n",
       "    <tr>\n",
       "      <th>Education</th>\n",
       "      <td>0.199459</td>\n",
       "    </tr>\n",
       "    <tr>\n",
       "      <th>Retail</th>\n",
       "      <td>0.199398</td>\n",
       "    </tr>\n",
       "    <tr>\n",
       "      <th>Healthcare</th>\n",
       "      <td>0.199376</td>\n",
       "    </tr>\n",
       "  </tbody>\n",
       "</table>\n",
       "</div>"
      ],
      "text/plain": [
       "                 fraud_rate\n",
       "vendor_category            \n",
       "Travel             0.200341\n",
       "Grocery            0.200194\n",
       "Gas                0.199731\n",
       "Restaurant         0.199696\n",
       "Entertainment      0.199632\n",
       "Education          0.199459\n",
       "Retail             0.199398\n",
       "Healthcare         0.199376"
      ]
     },
     "execution_count": 8,
     "metadata": {},
     "output_type": "execute_result"
    }
   ],
   "source": [
    "def fr_by(col):\n",
    "    g = df.groupby(col)['is_fraud'].mean().sort_values(ascending=False)\n",
    "    return g.to_frame('fraud_rate').head(20)\n",
    "fr_by('vendor_category').head(20)\n"
   ]
  },
  {
   "cell_type": "markdown",
   "id": "8571346c",
   "metadata": {},
   "source": [
    "### Выводы по FR в разрезе `vendor_category`\n",
    "\n",
    "**Наблюдения**\n",
    "- Значения FR по категориям практически не отличаются от общего уровня (**~0.1997**):  \n",
    "  `Travel ≈ 0.20034`, `Grocery ≈ 0.20019`, `Gas ≈ 0.19973`, `Restaurant ≈ 0.19970`, `Entertainment ≈ 0.19963`, `Education ≈ 0.19946`, `Retail ≈ 0.19940`, `Healthcare ≈ 0.19938`.\n",
    "- Абсолютные различия — на сотые доли процента (±0.0006), что **не даёт явного сигнала** для категорных правил на верхнем уровне таксономии.\n",
    "\n",
    "**Интерпретация**\n",
    "- Одна лишь «грубая» категория вендора, вероятно, **не является сильным предиктором** — полезный сигнал раскрывается на более тонких разрезах и в **взаимодействиях** с другими факторами (CNP, cross-border, устройство/канал, время).\n",
    "- Возможен эффект Симпсона: при агрегации по крупным классам различия сглаживаются.\n",
    "\n",
    "**Рекомендации**\n",
    "1. Перейти к более детальной гранулярности: `vendor_type`, `channel`, `device`, а также флаги `is_card_present`, `is_outside_home_country`, `is_high_risk_vendor`.\n",
    "2. Анализировать **lift** относительно глобального FR: `lift = FR(cat) / FR(global)` и учитывать объём категории (volume-weighted lift).\n",
    "3. Добавить **взаимодействия** (например, `vendor_category × is_card_present`, `vendor_category × cross_border`) — часто дают заметный прирост.\n",
    "4. Для high-cardinality признаков (`vendor`) использовать **fold-wise target encoding / WOE** с контролем утечки; для редких значений — сглаживание/бининги.\n",
    "5. Проверить статистическую значимость отличий через доверительные интервалы (Wilson 95% CI) по каждой категории; если CI перекрывает глобальный FR — различие можно считать нерелевантным для правил.\n",
    "\n",
    "**Практический вывод**\n",
    "- Не вводить «жёсткие» пороги только по `vendor_category`. Горизонт ценности — **сегментные пороги** и модельные фичи, учитывающие комбинации факторов."
   ]
  },
  {
   "cell_type": "markdown",
   "id": "e1a028eb",
   "metadata": {},
   "source": [
    "## 5. Временные паттерны\n",
    "\n",
    "### Что здесь делаем\n",
    "* Анализируем вариативность fraud rate по часу суток и дню недели.\n",
    "\n",
    "### Почему это важно\n",
    "* Временная фрикция (понижение/повышение порогов в «рискованные» часы/дни) даёт экономию при стабильной точности."
   ]
  },
  {
   "cell_type": "code",
   "execution_count": null,
   "id": "d182d08b",
   "metadata": {},
   "outputs": [
    {
     "data": {
      "image/png": "[encoded data removed]",
      "text/plain": [
       "<Figure size 640x480 with 1 Axes>"
      ]
     },
     "metadata": {},
     "output_type": "display_data"
    },
    {
     "data": {
      "image/png": "[encoded data removed]",
      "text/plain": [
       "<Figure size 640x480 with 1 Axes>"
      ]
     },
     "metadata": {},
     "output_type": "display_data"
    }
   ],
   "source": [
    "for col in ['tx_hour','tx_dow']:\n",
    "    df.groupby(col)['is_fraud'].mean().plot(kind='bar', rot=0); plt.title(f'Fraud rate by {col}'); plt.show()\n"
   ]
  },
  {
   "cell_type": "markdown",
   "id": "49713490",
   "metadata": {},
   "source": [
    "### Выводы по временным паттернам\n",
    "\n",
    "**Наблюдения**\n",
    "- По **часам суток** виден ярко выраженный «ночной» риск:\n",
    "  - **01:00–04:00** — FR ≈ **0.58–0.60** (≈ ×3 к глобальному ~0.20).\n",
    "  - **00:00** — тоже повышен (≈ **0.27**).\n",
    "  - Днём/вечером FR в основном в диапазоне **0.10–0.20** с локальными всплесками около **21:00–23:00** (до ≈ **0.21**).\n",
    "- По **дням недели** различий почти нет: FR ≈ **0.20** равномерно по `tx_dow ∈ [0..6]`.\n",
    "\n",
    "**Интерпретация**\n",
    "- Сильный сигнал идёт от **часа суток**, а не от дня недели. Это согласуется с поведенческими паттернами злоумышленников (активность в «тонкие» ночные часы).\n",
    "\n",
    "**Проверки качества (обязательно перед внедрением)**\n",
    "- Проверить **объём наблюдений по часам** (min N per hour) и 95% CI (например, Wilson) — чтобы исключить артефакты малых выборок.\n",
    "- Уточнить **часовой пояс** и консистентность `timestamp` (локальное vs UTC). При необходимости перевести в локальное время клиента/мерчанта.\n",
    "- Убедиться, что на «ночные» часы не падают системные операции/батчи.\n",
    "\n",
    "**Рекомендации**\n",
    "1. **Сегментная политика по времени суток**:\n",
    "   - В окне **01:00–04:00** — снизить пороги для step-up/ручной проверки на **20–30%** (draft) или повысить требуемую модельную вероятность.\n",
    "   - Совместить с факторами **CNP**, **cross-border**, **high-risk vendor** (взаимодействия дают наибольшую отдачу).\n",
    "2. **Модельные фичи**:\n",
    "   - Добавить one-hot `tx_hour` (или циклическое кодирование) и их взаимодействия с ключевыми флагами риска.\n",
    "3. **Мониторинг**:\n",
    "   - Ежечасный дашборд FR и доли фрикции; алёрты на резкие сдвиги ночного FR (дрейф).\n",
    "\n",
    "**Следующие шаги**\n",
    "- Пересчитать FR по часам с фильтром `N_hour ≥ 5 000` (или иным бизнес-порогом) и с доверительными интервалами.\n",
    "- Смоделировать влияние «ночных» порогов на **Recall@Precision≥0.90** и долю трафика в фрикции; зафиксировать итоговые пороги в отчёте."
   ]
  },
  {
   "cell_type": "markdown",
   "id": "8518d0bb",
   "metadata": {},
   "source": []
  }
 ],
 "metadata": {
  "kernelspec": {
   "display_name": ".venv",
   "language": "python",
   "name": "python3"
  },
  "language_info": {
   "codemirror_mode": {
    "name": "ipython",
    "version": 3
   },
   "file_extension": ".py",
   "mimetype": "text/x-python",
   "name": "python",
   "nbconvert_exporter": "python",
   "pygments_lexer": "ipython3",
   "version": "3.9.6"
  }
 },
 "nbformat": 4,
 "nbformat_minor": 5
}
