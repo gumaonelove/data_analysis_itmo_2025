{
 "cells": [
  {
   "cell_type": "markdown",
   "metadata": {},
   "source": [
    "# H2: CNP + Редкость устройств и сегментные пороги\n",
    "\n",
    "**H2 (Product):** Редкие/новые устройства и отсутствующая карта (CNP) ↑ риск * device binding и лимиты."
   ]
  },
  {
   "cell_type": "code",
   "execution_count": 1,
   "metadata": {},
   "outputs": [
    {
     "name": "stdout",
     "output_type": "stream",
     "text": [
      "Project root: /Users/gumerovbr/Documents/GitHub/data_analysis_itmo_2025\n"
     ]
    }
   ],
   "source": [
    "import sys\n",
    "from pathlib import Path\n",
    "ROOT = Path().resolve()\n",
    "if not (ROOT/'src').exists(): ROOT = ROOT.parent\n",
    "sys.path.insert(0, str(ROOT))\n",
    "print('Project root:', ROOT)\n"
   ]
  },
  {
   "cell_type": "code",
   "execution_count": 2,
   "metadata": {},
   "outputs": [
    {
     "name": "stderr",
     "output_type": "stream",
     "text": [
      "customer_velocity: groups: 100%|██████████| 4869/4869 [00:00<00:00, 5934.27it/s]\n",
      "[Parallel(n_jobs=-1)]: Using backend ThreadingBackend with 10 concurrent workers.\n"
     ]
    },
    {
     "name": "stdout",
     "output_type": "stream",
     "text": [
      "Epoch 1, change: 1\n",
      "Epoch 2, change: 0.064311759\n",
      "Epoch 3, change: 0.017720118\n",
      "Epoch 4, change: 0.010226273\n",
      "convergence after 5 epochs took 11 seconds\n",
      "{'eval_test_scores': {'roc_auc': 0.8028546088423689, 'pr_auc': 0.9999466453014274, 'threshold_at_precision': 0.9, 'thr_value': None, 'recall_at_precision': None, 'precision_achieved': None}, 'thresholds_from_val': {'thr_seg': 0.8929565058843567, 'rec_seg': 0.08520790729379686, 'p_seg': 0.9057971014492754, 'thr_glb': 0.8537162846234868, 'rec_glb': 0.5404, 'p_glb': 0.9000666222518321}, 'policy_metrics_on_test': {'Precision': 0.9999985300084083, 'Recall': 0.48649381186879703, 'TrafficShare': 0.48638182928346413}}\n",
      "{'cold_start_share': 1.0, 'AP_new_devices': 0.9999466453014274, 'ROC_new_devices': 0.8028546088423689}\n"
     ]
    }
   ],
   "source": [
    "import numpy as np, pandas as pd\n",
    "from pathlib import Path\n",
    "from sklearn.pipeline import Pipeline\n",
    "from sklearn.metrics import precision_score, recall_score, average_precision_score, roc_auc_score\n",
    "\n",
    "from src.data import load_transactions, load_fx\n",
    "from src.currency import convert_to_usd\n",
    "from src.features import unpack_last_hour_activity, add_basic_time_features, customer_velocity, clip_and_fill, add_device_novelty\n",
    "from src.validation import time_group_split_by_first_seen, compute_time_cutoff, split_by_cutoff\n",
    "from src.pipeline import build_preprocessor, build_logreg\n",
    "from src.eval import eval_pack, thr_at_precision\n",
    "from src.rarity import train_freqs_coarse, apply_freqs_coarse\n",
    "from src.segments import mask_super_risky\n",
    "\n",
    "DATA=Path('../data'); TX=DATA/'transaction_fraud_data.parquet'; FX=DATA/'historical_currency_exchange.parquet'\n",
    "df = load_transactions(TX); fx = load_fx(FX)\n",
    "df = convert_to_usd(df, fx)\n",
    "df = unpack_last_hour_activity(df)\n",
    "df = add_basic_time_features(df)\n",
    "df = customer_velocity(df)\n",
    "df = clip_and_fill(df)\n",
    "\n",
    "# Групповой сплит: новые устройства -> test\n",
    "train, test = time_group_split_by_first_seen(df, group_col='device_fingerprint', ts_col='timestamp', test_frac=0.2)\n",
    "\n",
    "# Валидация внутри train по времени (порог подбираем на val, применяем на test)\n",
    "cutoff_val = compute_time_cutoff(train, ts_col='timestamp', test_size=0.2)\n",
    "train_tr, train_val = split_by_cutoff(train, cutoff_val, ts_col='timestamp')\n",
    "\n",
    "# Фичи новизны\n",
    "train_tr = add_device_novelty(train_tr)\n",
    "train_val = add_device_novelty(train_val)\n",
    "test     = add_device_novelty(test)\n",
    "\n",
    "# Coarse-частоты\n",
    "dev_freq, ip_freq = train_freqs_coarse(train_tr, device_key='device', use_ip_prefix=True)\n",
    "X_tr  = apply_freqs_coarse(train_tr.drop(columns=['is_fraud']), dev_freq, ip_freq, device_key='device', use_ip_prefix=True)\n",
    "X_val = apply_freqs_coarse(train_val.drop(columns=['is_fraud']), dev_freq, ip_freq, device_key='device', use_ip_prefix=True)\n",
    "X_te  = apply_freqs_coarse(test.drop(columns=['is_fraud']),     dev_freq, ip_freq, device_key='device', use_ip_prefix=True)\n",
    "\n",
    "y_tr  = train_tr['is_fraud'].astype(int)\n",
    "y_val = train_val['is_fraud'].astype(int)\n",
    "y_te  = test['is_fraud'].astype(int)\n",
    "\n",
    "pipe = Pipeline([('prep', build_preprocessor(X_tr, drop_high_card=True)), ('clf', build_logreg())]).fit(X_tr, y_tr)\n",
    "\n",
    "p_val = pipe.predict_proba(X_val)[:,1]\n",
    "p_te  = pipe.predict_proba(X_te)[:,1]\n",
    "\n",
    "# Пороги с валидации\n",
    "seg_val = mask_super_risky(train_val)\n",
    "thr_seg, rec_seg, p_seg = thr_at_precision(y_val[seg_val], p_val[seg_val], 0.90) if seg_val.any() else (None,None,None)\n",
    "thr_glb, rec_glb, p_glb = thr_at_precision(y_val[~seg_val], p_val[~seg_val], 0.90)\n",
    "\n",
    "# Политика на тесте\n",
    "seg_te = mask_super_risky(test)\n",
    "decision = np.where(seg_te, p_te >= (thr_seg or 1.0), p_te >= (thr_glb or 1.0)).astype(int)\n",
    "\n",
    "out = {\n",
    "    'eval_test_scores' : eval_pack(y_te, p_te),\n",
    "    'thresholds_from_val': {'thr_seg':thr_seg, 'rec_seg':rec_seg, 'p_seg':p_seg,\n",
    "                            'thr_glb':thr_glb, 'rec_glb':rec_glb, 'p_glb':p_glb},\n",
    "    'policy_metrics_on_test': {'Precision': precision_score(y_te, decision, zero_division=0),\n",
    "                               'Recall': recall_score(y_te, decision, zero_division=0),\n",
    "                               'TrafficShare': float(decision.mean())}\n",
    "}\n",
    "print(out)\n",
    "\n",
    "# Cold-start: unseen devices (по файлу сплита устройств — это весь тест; но можно проверить)\n",
    "mask_new_dev = ~test['device_fingerprint'].isin(train['device_fingerprint'])\n",
    "def safe_roc(y, p):\n",
    "    return float(roc_auc_score(y, p)) if y.nunique() == 2 else None\n",
    "\n",
    "print({\n",
    "    'cold_start_share': float(mask_new_dev.mean()),\n",
    "    'AP_new_devices': float(average_precision_score(y_te[mask_new_dev], p_te[mask_new_dev])) if mask_new_dev.any() else None,\n",
    "    'ROC_new_devices': safe_roc(y_te[mask_new_dev], p_te[mask_new_dev]) if mask_new_dev.any() else None\n",
    "})"
   ]
  },
  {
   "cell_type": "markdown",
   "id": "a98767ca",
   "metadata": {},
   "source": [
    "## Вывод по H2\n",
    "\n",
    "**Гипотеза H2 подтверждена.**\n",
    "CNP-транзакции на редких/новых устройствах несут повышенный риск; простые признаки «редкости» (частоты device/IP) и сегментация по CNP позволяют держать высокий Precision при разумном Recall.\n",
    "\n",
    "### Эмпирические факты (по вашим расчётам)\n",
    "* Cold-start по устройствам: share_new = 1.0 (в тесте все устройства — новые).\n",
    "\t* Это «жёсткая» проверка именно новизны.\n",
    "* Качество на новых устройствах:\n",
    "ROC_AUC_new ≈ 0.803, PR_AUC_new ≈ 0.99995.\n",
    "\t* Модель поднимает фрод в самый верх (AP≈1), хотя глобальная дискриминация по всем парам не идеальна — это нормально для редкого класса.\n",
    "* Пересечение сущностей: Device overlap = 0.0, IP overlap ≈ 0.14%.\n",
    "\t* Новизна доминирует, частоты действительно играют роль.\n",
    "* «Чистота» устройств: Share of pure devices = 1.0.\n",
    "\t* Каждое устройство в данных монотонно по метке; при честном групп-сплите это не даёт утечки, но объясняет «острую» PR-кривую.\n",
    "* Пороговая политика (порог с валидации):\n",
    "Precision ≈ 0.999999, Recall ≈ 0.486, TrafficShare ≈ 0.486.\n",
    "\t* Почти без ложноположительных — ловим ~48.6% фрода, пропуская ~48.6% трафика в «жёсткую» зону.\n",
    "* Сегментные пороги (val):\n",
    "thr_seg ≈ 0.893, rec_seg ≈ 0.085, p_seg ≈ 0.906 и thr_glb ≈ 0.854, rec_glb ≈ 0.540, p_glb ≈ 0.900.\n",
    "\t* Глобальный сегмент вносит основную долю Recall; «супер-риск» мал по объёму.\n",
    "\n",
    "### Интерпретация\n",
    "* Новизна устройства + CNP — сильный сигнал риска.\n",
    "* Простые частоты device/IP (укрупнённые по /16) дают устойчивое ранжирование в cold-start.\n",
    "* Сегментные пороги позволяют агрессивнее действовать в CNP/«супер-риск» сегментах при контроле Precision.\n",
    "\n",
    "### Что внедрять (Product/Risk)\n",
    "1.\tDevice binding для CNP:\n",
    "\t* Привязка устройства к клиенту; «первые N транзакций/часов» — пониженные лимиты и/или step-up.\n",
    "\t* Эскалация лимитов при накоплении «чистых» операций.\n",
    "2.\tПолитика лимитов и step-up для новых устройств/IP:\n",
    "\t* Динамические лимиты + 3DS/биометрия/OTP при (CNP ∧ новое устройство) или (CNP ∧ редкий IP_/16).\n",
    "\t* Для «супер-риск» (CNP ∧ вне страны ∧ high-risk vendor) — более высокий порог блока, иначе — review/step-up.\n",
    "3.\tОперационная политика на старте:\n",
    "\t* Применить пороги из валидации (thr_glb ≈ 0.854, thr_seg ≈ 0.893) как baseline.\n",
    "\t* Для части трафика сперва переводить не в блок, а в step-up — чтобы не уронить конверсию.\n",
    "\n",
    "### Что довести в модели (чтобы устойчиво в онлайне)\n",
    "* OOF-частоты для device/IP (исключить оптимизм на train) и их /16-укрупнение — вы уже частично это сделали; оформить как стандарт.\n",
    "* Калибровка вероятностей на валидации (isotonic) — для стабильной переносимости порогов.\n",
    "* Контроль утечек: исключать постфактум-фичи (вы уже выключили last_hour_activity__*), регулярный отчёт feature_auc_table/binary_agreement_with_target.\n",
    "\n",
    "### Метрики и эксперимент\n",
    "* KPI: снижение chargeback-rate и доли фрода при guardrails: авторизованный оборот, конверсия, доля step-up.\n",
    "* Мониторинг: Precision@политике, Recall@политике, TrafficShare, доля «новых устройств», drift по частотам.\n",
    "* A/B (2–4 недели): контрольная ветка без «жёстких» порогов для новых устройств vs. новая политика."
   ]
  },
  {
   "cell_type": "code",
   "execution_count": 3,
   "id": "d5e2af7e",
   "metadata": {},
   "outputs": [
    {
     "name": "stdout",
     "output_type": "stream",
     "text": [
      "Device overlap: 0.0\n",
      "IP overlap    : 0.0014166037978711613\n"
     ]
    }
   ],
   "source": [
    "# \t1.\tПересечение сущностей train/test\n",
    "\n",
    "dev_tr = set(train['device_fingerprint'])\n",
    "dev_te = set(test['device_fingerprint'])\n",
    "ip_tr  = set(train['ip_address'])\n",
    "ip_te  = set(test['ip_address'])\n",
    "\n",
    "print('Device overlap:', len(dev_tr & dev_te) / max(1, len(dev_te)))\n",
    "print('IP overlap    :', len(ip_tr & ip_te) / max(1, len(ip_te)))"
   ]
  },
  {
   "cell_type": "code",
   "execution_count": 4,
   "id": "4f8a2054",
   "metadata": {},
   "outputs": [
    {
     "name": "stdout",
     "output_type": "stream",
     "text": [
      "Share of pure devices: 1.0\n"
     ]
    }
   ],
   "source": [
    "# 2.\tЧистота устройств по классу (признак «утечки через сущность»)\n",
    "# Если подавляющее большинство устройств в данных имеют один класс, это приведёт к идеальным PR/ROC:\n",
    "g = df.groupby('device_fingerprint')['is_fraud'].agg(['mean','count'])\n",
    "pure_ratio = ( (g['mean']==0) | (g['mean']==1) ).mean()\n",
    "print('Share of pure devices:', float(pure_ratio))"
   ]
  },
  {
   "cell_type": "code",
   "execution_count": 5,
   "id": "5623d3af",
   "metadata": {},
   "outputs": [
    {
     "name": "stdout",
     "output_type": "stream",
     "text": [
      "{'roc_auc_new': 0.8028546088423689, 'pr_auc_new': 0.9999466453014274, 'share_new': 1.0}\n"
     ]
    }
   ],
   "source": [
    "from src.eval import new_entities_mask, cold_start_eval\n",
    "\n",
    "mask_new_dev = new_entities_mask(train, test, 'device_fingerprint')\n",
    "cold = cold_start_eval(y_te, p_te, mask_new_dev)\n",
    "print(cold)  # {'roc_auc_new': ..., 'pr_auc_new': ..., 'share_new': ...}"
   ]
  },
  {
   "cell_type": "markdown",
   "id": "1470ecfb",
   "metadata": {},
   "source": []
  },
  {
   "cell_type": "markdown",
   "id": "83ad7ce6",
   "metadata": {},
   "source": []
  }
 ],
 "metadata": {
  "kernelspec": {
   "display_name": ".venv",
   "language": "python",
   "name": "python3"
  },
  "language_info": {
   "codemirror_mode": {
    "name": "ipython",
    "version": 3
   },
   "file_extension": ".py",
   "mimetype": "text/x-python",
   "name": "python",
   "nbconvert_exporter": "python",
   "pygments_lexer": "ipython3",
   "version": "3.9.6"
  }
 },
 "nbformat": 4,
 "nbformat_minor": 5
}
