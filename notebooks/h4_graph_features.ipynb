{
 "cells": [
  {
   "cell_type": "markdown",
   "metadata": {},
   "source": [
    "# H4: Графовые признаки\n",
    "\n",
    "**H4 (Tech):** Графовые признаки по `device_fingerprint`/`ip_address`/`card_number` увеличивают PR-AUC за счёт выявления колец."
   ]
  },
  {
   "cell_type": "code",
   "execution_count": 1,
   "metadata": {},
   "outputs": [
    {
     "name": "stdout",
     "output_type": "stream",
     "text": [
      "Project root: /Users/gumerovbr/Documents/GitHub/data_analysis_itmo_2025\n"
     ]
    }
   ],
   "source": [
    "import sys\n",
    "from pathlib import Path\n",
    "ROOT = Path().resolve()\n",
    "if not (ROOT/'src').exists(): ROOT = ROOT.parent\n",
    "sys.path.insert(0, str(ROOT))\n",
    "print('Project root:', ROOT)\n"
   ]
  },
  {
   "cell_type": "code",
   "execution_count": 2,
   "metadata": {},
   "outputs": [
    {
     "name": "stderr",
     "output_type": "stream",
     "text": [
      "/Users/gumerovbr/Documents/GitHub/data_analysis_itmo_2025/.venv/lib/python3.9/site-packages/sklearn/linear_model/_linear_loss.py:209: RuntimeWarning: divide by zero encountered in matmul\n",
      "  norm2_w = weights @ weights if weights.ndim == 1 else squared_norm(weights)\n",
      "/Users/gumerovbr/Documents/GitHub/data_analysis_itmo_2025/.venv/lib/python3.9/site-packages/sklearn/linear_model/_linear_loss.py:209: RuntimeWarning: overflow encountered in matmul\n",
      "  norm2_w = weights @ weights if weights.ndim == 1 else squared_norm(weights)\n",
      "/Users/gumerovbr/Documents/GitHub/data_analysis_itmo_2025/.venv/lib/python3.9/site-packages/sklearn/linear_model/_linear_loss.py:209: RuntimeWarning: invalid value encountered in matmul\n",
      "  norm2_w = weights @ weights if weights.ndim == 1 else squared_norm(weights)\n"
     ]
    },
    {
     "data": {
      "text/plain": [
       "{'roc_auc': 0.8116556813952299,\n",
       " 'pr_auc': 0.8103160699734586,\n",
       " 'threshold_at_precision': 0.9,\n",
       " 'thr_value': 0.6344893703511315,\n",
       " 'recall_at_precision': 0.7148364769691573,\n",
       " 'precision_achieved': 0.9000025480303725}"
      ]
     },
     "execution_count": 2,
     "metadata": {},
     "output_type": "execute_result"
    }
   ],
   "source": [
    "import pandas as pd, numpy as np\n",
    "from pathlib import Path\n",
    "from sklearn.pipeline import Pipeline\n",
    "from src.data import load_transactions, load_fx\n",
    "from src.currency import convert_to_usd\n",
    "from src.features import unpack_last_hour_activity, add_basic_time_features\n",
    "from src.validation import split_time_aware\n",
    "from src.pipeline import build_preprocessor, build_logreg\n",
    "from src.eval import eval_pack\n",
    "from src.graph_feats import build_graph, graph_features\n",
    "\n",
    "DATA=Path('../data'); TX=DATA/'transaction_fraud_data.parquet'; FX=DATA/'historical_currency_exchange.parquet'\n",
    "df = load_transactions(TX); fx = load_fx(FX)\n",
    "df = convert_to_usd(df, fx); df = unpack_last_hour_activity(df); df = add_basic_time_features(df)\n",
    "\n",
    "train, test = split_time_aware(df)\n",
    "y_tr, y_te = train['is_fraud'].astype(int), test['is_fraud'].astype(int)\n",
    "X_tr, X_te = train.drop(columns=['is_fraud']), test.drop(columns=['is_fraud'])\n",
    "\n",
    "state = build_graph(train)\n",
    "g_tr = graph_features(train, state); g_te = graph_features(test, state)\n",
    "X_tr_g = pd.concat([X_tr.reset_index(drop=True), g_tr.reset_index(drop=True)], axis=1)\n",
    "X_te_g = pd.concat([X_te.reset_index(drop=True), g_te.reset_index(drop=True)], axis=1)\n",
    "\n",
    "pipe = Pipeline([('prep', build_preprocessor(X_tr_g)), ('clf', build_logreg())]).fit(X_tr_g, y_tr)\n",
    "p = pipe.predict_proba(X_te_g)[:,1]\n",
    "eval_pack(y_te, p)"
   ]
  },
  {
   "cell_type": "markdown",
   "id": "7d84e2f5",
   "metadata": {},
   "source": [
    "Выводы по H4 (графовые признаки)\n",
    "\n",
    "### Факт\n",
    "* На графовых фичах получено существенное качество: ROC-AUC ≈ 0.8117, PR-AUC ≈ 0.8103. При целевой Precision ≥ 0.90 найден порог thr ≈ 0.6345, достигается Recall ≈ 0.715 (на временном сплите). → Текущая реализация графа даёт сигнал и позволяет детектировать «кольца».\n",
    "\n",
    "### Интерпретация (почему работает)\n",
    " 1. Топология «колец»: степени/размеры компонент и пересечения по device_fingerprint/ip_address/card_number фиксируют многосвязные подграфы, характерные для мошеннических схем.\n",
    " 2. Устойчивость к редкости: графовые признаки частично компенсируют «новизну» отдельных идентификаторов, агрегируя поведение на уровне компонент/соседей.\n",
    " 3. Регуляризация пайплайна: строгий препроцессинг (импутация, RobustScaler, ограничение кардинальности категориальных) стабилизирует линейную модель.\n",
    "\n",
    "### Мини-диагностика (для подтверждения устойчивости эффекта)\n",
    "* Исключить утечки: повторно оценить на группо-временном сплите time_group_split_by_first_seen по device_fingerprint (и/или card_number); проверить, что пересечения групп train∩test = ∅.\n",
    "* Калибровать эффект: сравнить без графа vs с графом на том же сплите и посчитать ΔPR-AUC с 95% ДИ бутстрапом.\n",
    "* Оценить «новизну»: доля unseen узлов в тесте и распределения deg_*, comp_size_* → отсутствие деградации признаков при росте unseen.\n",
    "\n",
    "### Рекомендации (следующая итерация)\n",
    " 1. Более строгая валидация: основной отчёт — по time_group_split_by_first_seen (device/card), дополнение — rolling time-group CV.\n",
    " 2. Исторические риск-агрегаты (без утечек): prior_fraud_count/rate для узлов/компонент до t (сглаживание Лапласа), флаг «fraud в компоненте до t».\n",
    " 3. Расширение графа и окон: добавить рёбра device–ip, device–vendor, ip–vendor; строить граф на скользящем окне (30–90 дней), чтобы снизить долю unseen.\n",
    " 4. Модель: проверить LightGBM на разреженных + графовых фичах; сравнить с логрег по PR-AUC@Prec≥0.9.\n",
    " 5. Онлайн-поддержка: периодический пересчёт графовых статистик по окнам (ежедневно/еженедельно) для прод-стабильности.\n",
    "\n",
    "Итог\n",
    "Гипотеза H4 подтверждается: графовые признаки дают значимый сигнал и обеспечивают достижение целевой Precision ≥ 0.90 при высоком Recall на текущем (временном) сплите. Для финальной фиксации эффекта в отчёте требуется переоценка на группо-временной валидации и квантование прироста (ΔPR-AUC с ДИ). Ожидаемый результат — сохранение выигрыша за счёт топологических и исторических риск-агрегатов."
   ]
  },
  {
   "cell_type": "markdown",
   "id": "bb4132ec",
   "metadata": {},
   "source": []
  }
 ],
 "metadata": {
  "kernelspec": {
   "display_name": ".venv",
   "language": "python",
   "name": "python3"
  },
  "language_info": {
   "codemirror_mode": {
    "name": "ipython",
    "version": 3
   },
   "file_extension": ".py",
   "mimetype": "text/x-python",
   "name": "python",
   "nbconvert_exporter": "python",
   "pygments_lexer": "ipython3",
   "version": "3.9.6"
  }
 },
 "nbformat": 4,
 "nbformat_minor": 5
}
