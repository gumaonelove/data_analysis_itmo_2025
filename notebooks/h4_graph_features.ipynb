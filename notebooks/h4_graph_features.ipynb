{
 "cells": [
  {
   "cell_type": "markdown",
   "metadata": {},
   "source": [
    "# H4: Графовые признаки\n",
    "\n",
    "**H4 (Tech):** Графовые признаки по `device_fingerprint`/`ip_address`/`card_number` увеличивают PR-AUC за счёт выявления колец."
   ]
  },
  {
   "cell_type": "code",
   "execution_count": 1,
   "metadata": {},
   "outputs": [
    {
     "name": "stdout",
     "output_type": "stream",
     "text": [
      "Project root: /Users/gumerovbr/Documents/GitHub/data_analysis_itmo_2025\n"
     ]
    }
   ],
   "source": [
    "import sys\n",
    "from pathlib import Path\n",
    "ROOT = Path().resolve()\n",
    "if not (ROOT/'src').exists(): ROOT = ROOT.parent\n",
    "sys.path.insert(0, str(ROOT))\n",
    "print('Project root:', ROOT)\n"
   ]
  },
  {
   "cell_type": "code",
   "execution_count": 2,
   "metadata": {},
   "outputs": [
    {
     "name": "stderr",
     "output_type": "stream",
     "text": [
      "/Users/gumerovbr/Documents/GitHub/data_analysis_itmo_2025/.venv/lib/python3.9/site-packages/sklearn/linear_model/_linear_loss.py:209: RuntimeWarning: divide by zero encountered in matmul\n",
      "  norm2_w = weights @ weights if weights.ndim == 1 else squared_norm(weights)\n",
      "/Users/gumerovbr/Documents/GitHub/data_analysis_itmo_2025/.venv/lib/python3.9/site-packages/sklearn/linear_model/_linear_loss.py:209: RuntimeWarning: overflow encountered in matmul\n",
      "  norm2_w = weights @ weights if weights.ndim == 1 else squared_norm(weights)\n",
      "/Users/gumerovbr/Documents/GitHub/data_analysis_itmo_2025/.venv/lib/python3.9/site-packages/sklearn/linear_model/_linear_loss.py:209: RuntimeWarning: invalid value encountered in matmul\n",
      "  norm2_w = weights @ weights if weights.ndim == 1 else squared_norm(weights)\n"
     ]
    },
    {
     "data": {
      "text/plain": [
       "{'roc_auc': 0.5001122214983779,\n",
       " 'pr_auc': 0.1980998640895631,\n",
       " 'threshold_at_precision': 0.9,\n",
       " 'thr_value': None,\n",
       " 'recall_at_precision': None,\n",
       " 'precision_achieved': None}"
      ]
     },
     "execution_count": 2,
     "metadata": {},
     "output_type": "execute_result"
    }
   ],
   "source": [
    "import pandas as pd, numpy as np\n",
    "from pathlib import Path\n",
    "from sklearn.pipeline import Pipeline\n",
    "from src.data import load_transactions, load_fx\n",
    "from src.currency import convert_to_usd\n",
    "from src.features import unpack_last_hour_activity, add_basic_time_features\n",
    "from src.validation import split_time_aware\n",
    "from src.pipeline import build_preprocessor, build_logreg\n",
    "from src.eval import eval_pack\n",
    "from src.graph_feats import build_graph, graph_features\n",
    "\n",
    "DATA=Path('../data'); TX=DATA/'transaction_fraud_data.parquet'; FX=DATA/'historical_currency_exchange.parquet'\n",
    "df = load_transactions(TX); fx = load_fx(FX)\n",
    "df = convert_to_usd(df, fx); df = unpack_last_hour_activity(df); df = add_basic_time_features(df)\n",
    "\n",
    "train, test = split_time_aware(df)\n",
    "y_tr, y_te = train['is_fraud'].astype(int), test['is_fraud'].astype(int)\n",
    "X_tr, X_te = train.drop(columns=['is_fraud']), test.drop(columns=['is_fraud'])\n",
    "\n",
    "state = build_graph(train)\n",
    "g_tr = graph_features(train, state); g_te = graph_features(test, state)\n",
    "X_tr_g = pd.concat([X_tr.reset_index(drop=True), g_tr.reset_index(drop=True)], axis=1)\n",
    "X_te_g = pd.concat([X_te.reset_index(drop=True), g_te.reset_index(drop=True)], axis=1)\n",
    "\n",
    "pipe = Pipeline([('prep', build_preprocessor(X_tr_g)), ('clf', build_logreg())]).fit(X_tr_g, y_tr)\n",
    "p = pipe.predict_proba(X_te_g)[:,1]\n",
    "eval_pack(y_te, p)"
   ]
  },
  {
   "cell_type": "markdown",
   "id": "7d84e2f5",
   "metadata": {},
   "source": [
    "### Выводы по H4 (графовые признаки)\n",
    "\n",
    "**Факт**\n",
    "- Качество на графовых фичах не отличается от случайного: **ROC-AUC ≈ 0.5001**, **PR-AUC ≈ 0.1981**; порог при **Precision ≥ 0.90** не найден. → Текущая реализация графа **не даёт сигнала**.\n",
    "\n",
    "**Вероятные причины**\n",
    "1. **Низкая вариативность фичей**: `deg_*` и `comp_size_*` близки к константам (много узлов со степенью 1 и маленькими компонентами).\n",
    "2. **Сильная «новизна» узлов на тесте**: доля unseen `card/device/ip` высока → фичи маппятся в 0/1 и теряют информативность.\n",
    "3. **Слишком «узкий» граф**: рёбра только `card–device` и `card–ip`; нет связей с `vendor`, `ip–device`, временных окон.\n",
    "4. **Агрегация без знания меток**: нет исторических признаков типа «в компоненте уже был fraud до t».\n",
    "\n",
    "**Мини-диагностика (перед следующей итерацией)**\n",
    "- Проверить распределения:\n",
    "  - `X_tr_g[['deg_card','deg_device','deg_ip']].describe()`\n",
    "  - Долю unseen узлов на тесте: `(~X_te_g['deg_card'].gt(0)).mean()` и аналогично для device/ip.\n",
    "- Если дисперсии ~0 или unseen >> 50% — текущие фичи по определению будут слабые.\n",
    "\n",
    "**Рекомендации (следующая итерация)**\n",
    "1. **Богаче граф и окна во времени**  \n",
    "   - Добавить рёбра: `device–ip`, `device–vendor`, `ip–vendor`; строить граф **на скользящем окне** (например, 30 дней) для снижения доли unseen.\n",
    "2. **Исторические риск-агрегаты (без утечки)**  \n",
    "   - Для узлов/компонент: `prior_fraud_count`, `prior_fraud_rate` до момента t, сглаженные (Laplace).  \n",
    "   - Флаг «в компоненте уже был fraud до t».\n",
    "3. **Поведенческие соединения**  \n",
    "   - `unique_cards_per_device_{1,7,30}d`, `unique_devices_per_ip_{…}`, `first_seen_age_{…}`.\n",
    "4. **Модель**  \n",
    "   - Попробовать **LightGBM** (лучше работает с разреженными/не-нормальными распределениями).\n",
    "5. **Fallback на редкость**  \n",
    "   - Объединить графовые признаки с усиленными rarity-фичами (`device_is_new/rare`, `ip_is_new/rare`) и их взаимодействиями с CNP/cross-border.\n",
    "\n",
    "**Итог:** гипотеза в текущей реализации **не подтверждена**. Для появления ценности нужны (а) более «связный» граф с временными окнами и (б) исторические риск-агрегаты без утечки; ожидаемый эффект — рост **PR-AUC** и достижимость целевой **Precision** на сегментах."
   ]
  },
  {
   "cell_type": "markdown",
   "id": "bb4132ec",
   "metadata": {},
   "source": []
  }
 ],
 "metadata": {
  "kernelspec": {
   "display_name": ".venv",
   "language": "python",
   "name": "python3"
  },
  "language_info": {
   "codemirror_mode": {
    "name": "ipython",
    "version": 3
   },
   "file_extension": ".py",
   "mimetype": "text/x-python",
   "name": "python",
   "nbconvert_exporter": "python",
   "pygments_lexer": "ipython3",
   "version": "3.9.6"
  }
 },
 "nbformat": 4,
 "nbformat_minor": 5
}
