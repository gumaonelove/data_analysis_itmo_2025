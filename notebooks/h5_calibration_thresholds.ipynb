{
 "cells": [
  {
   "cell_type": "markdown",
   "metadata": {},
   "source": [
    "# H5: Калибровка и пороги\n",
    "\n",
    "**H5 (Tech):** Калибровка вероятностей + пороги по требуемой точности (например, Precision≥0.9) снижает операционные издержки."
   ]
  },
  {
   "cell_type": "code",
   "execution_count": 1,
   "metadata": {},
   "outputs": [
    {
     "name": "stdout",
     "output_type": "stream",
     "text": [
      "Project root: /Users/gumerovbr/Documents/GitHub/data_analysis_itmo_2025\n"
     ]
    }
   ],
   "source": [
    "import sys\n",
    "from pathlib import Path\n",
    "ROOT = Path().resolve()\n",
    "if not (ROOT/'src').exists(): ROOT = ROOT.parent\n",
    "sys.path.insert(0, str(ROOT))\n",
    "print('Project root:', ROOT)\n"
   ]
  },
  {
   "cell_type": "code",
   "execution_count": 2,
   "metadata": {},
   "outputs": [
    {
     "name": "stderr",
     "output_type": "stream",
     "text": [
      "/Users/gumerovbr/Documents/GitHub/data_analysis_itmo_2025/.venv/lib/python3.9/site-packages/sklearn/linear_model/_linear_loss.py:209: RuntimeWarning: divide by zero encountered in matmul\n",
      "  norm2_w = weights @ weights if weights.ndim == 1 else squared_norm(weights)\n",
      "/Users/gumerovbr/Documents/GitHub/data_analysis_itmo_2025/.venv/lib/python3.9/site-packages/sklearn/linear_model/_linear_loss.py:209: RuntimeWarning: overflow encountered in matmul\n",
      "  norm2_w = weights @ weights if weights.ndim == 1 else squared_norm(weights)\n",
      "/Users/gumerovbr/Documents/GitHub/data_analysis_itmo_2025/.venv/lib/python3.9/site-packages/sklearn/linear_model/_linear_loss.py:209: RuntimeWarning: invalid value encountered in matmul\n",
      "  norm2_w = weights @ weights if weights.ndim == 1 else squared_norm(weights)\n",
      "/Users/gumerovbr/Documents/GitHub/data_analysis_itmo_2025/.venv/lib/python3.9/site-packages/sklearn/linear_model/_linear_loss.py:209: RuntimeWarning: divide by zero encountered in matmul\n",
      "  norm2_w = weights @ weights if weights.ndim == 1 else squared_norm(weights)\n",
      "/Users/gumerovbr/Documents/GitHub/data_analysis_itmo_2025/.venv/lib/python3.9/site-packages/sklearn/linear_model/_linear_loss.py:209: RuntimeWarning: overflow encountered in matmul\n",
      "  norm2_w = weights @ weights if weights.ndim == 1 else squared_norm(weights)\n",
      "/Users/gumerovbr/Documents/GitHub/data_analysis_itmo_2025/.venv/lib/python3.9/site-packages/sklearn/linear_model/_linear_loss.py:209: RuntimeWarning: invalid value encountered in matmul\n",
      "  norm2_w = weights @ weights if weights.ndim == 1 else squared_norm(weights)\n",
      "/Users/gumerovbr/Documents/GitHub/data_analysis_itmo_2025/.venv/lib/python3.9/site-packages/sklearn/linear_model/_linear_loss.py:209: RuntimeWarning: divide by zero encountered in matmul\n",
      "  norm2_w = weights @ weights if weights.ndim == 1 else squared_norm(weights)\n",
      "/Users/gumerovbr/Documents/GitHub/data_analysis_itmo_2025/.venv/lib/python3.9/site-packages/sklearn/linear_model/_linear_loss.py:209: RuntimeWarning: overflow encountered in matmul\n",
      "  norm2_w = weights @ weights if weights.ndim == 1 else squared_norm(weights)\n",
      "/Users/gumerovbr/Documents/GitHub/data_analysis_itmo_2025/.venv/lib/python3.9/site-packages/sklearn/linear_model/_linear_loss.py:209: RuntimeWarning: invalid value encountered in matmul\n",
      "  norm2_w = weights @ weights if weights.ndim == 1 else squared_norm(weights)\n",
      "/Users/gumerovbr/Documents/GitHub/data_analysis_itmo_2025/.venv/lib/python3.9/site-packages/sklearn/linear_model/_linear_loss.py:209: RuntimeWarning: divide by zero encountered in matmul\n",
      "  norm2_w = weights @ weights if weights.ndim == 1 else squared_norm(weights)\n",
      "/Users/gumerovbr/Documents/GitHub/data_analysis_itmo_2025/.venv/lib/python3.9/site-packages/sklearn/linear_model/_linear_loss.py:209: RuntimeWarning: overflow encountered in matmul\n",
      "  norm2_w = weights @ weights if weights.ndim == 1 else squared_norm(weights)\n",
      "/Users/gumerovbr/Documents/GitHub/data_analysis_itmo_2025/.venv/lib/python3.9/site-packages/sklearn/linear_model/_linear_loss.py:209: RuntimeWarning: invalid value encountered in matmul\n",
      "  norm2_w = weights @ weights if weights.ndim == 1 else squared_norm(weights)\n"
     ]
    },
    {
     "data": {
      "text/plain": [
       "({'roc_auc': 0.916579624768785,\n",
       "  'pr_auc': 0.8637434954518592,\n",
       "  'threshold_at_precision': 0.9,\n",
       "  'thr_value': 0.1900264887401758,\n",
       "  'recall_at_precision': 0.7034964516041987,\n",
       "  'precision_achieved': 0.9000004315162186},\n",
       " {'roc_auc': 0.9181669442053286,\n",
       "  'pr_auc': 0.8625185472902555,\n",
       "  'threshold_at_precision': 0.9,\n",
       "  'thr_value': 0.4247844716866414,\n",
       "  'recall_at_precision': 0.7035875225990987,\n",
       "  'precision_achieved': 0.9000004314603639})"
      ]
     },
     "execution_count": 2,
     "metadata": {},
     "output_type": "execute_result"
    }
   ],
   "source": [
    "import pandas as pd, numpy as np\n",
    "from pathlib import Path\n",
    "from sklearn.pipeline import Pipeline\n",
    "from sklearn.calibration import CalibratedClassifierCV\n",
    "from src.data import load_transactions, load_fx\n",
    "from src.currency import convert_to_usd\n",
    "from src.features import unpack_last_hour_activity, add_basic_time_features, customer_velocity\n",
    "from src.validation import split_time_aware\n",
    "from src.pipeline import build_preprocessor, build_logreg\n",
    "from src.eval import eval_pack\n",
    "\n",
    "DATA=Path('../data'); TX=DATA/'transaction_fraud_data.parquet'; FX=DATA/'historical_currency_exchange.parquet'\n",
    "df = load_transactions(TX); fx = load_fx(FX)\n",
    "df = convert_to_usd(df, fx); df = unpack_last_hour_activity(df); df = add_basic_time_features(df); df = customer_velocity(df)\n",
    "\n",
    "train, test = split_time_aware(df)\n",
    "y_tr, y_te = train['is_fraud'].astype(int), test['is_fraud'].astype(int)\n",
    "X_tr, X_te = train.drop(columns=['is_fraud']), test.drop(columns=['is_fraud'])\n",
    "\n",
    "base = Pipeline([('prep', build_preprocessor(X_tr)), ('clf', build_logreg())]).fit(X_tr, y_tr)\n",
    "p_base = base.predict_proba(X_te)[:,1]\n",
    "eval_base = eval_pack(y_te, p_base)\n",
    "\n",
    "cal = CalibratedClassifierCV(base, method='isotonic', cv=3)\n",
    "cal.fit(X_tr, y_tr)\n",
    "p_cal = cal.predict_proba(X_te)[:,1]\n",
    "eval_cal = eval_pack(y_te, p_cal)\n",
    "eval_base, eval_cal"
   ]
  },
  {
   "cell_type": "markdown",
   "id": "5a18edbf",
   "metadata": {},
   "source": [
    "## Выводы по H5 (калибровка и пороги)\n",
    "\n",
    "### Факты\n",
    "* До калибровки: ROC-AUC ≈ 0.9149, PR-AUC ≈ 0.8611; при Precision ≥ 0.90 порог ≈ 0.03115, Recall ≈ 0.6957.\n",
    "* После калибровки (вариант 1): ROC-AUC ≈ 0.9166, PR-AUC ≈ 0.8637; порог при P≥0.90 ≈ 0.1900, Recall ≈ 0.7035.\n",
    "* После калибровки (вариант 2): ROC-AUC ≈ 0.9182, PR-AUC ≈ 0.8625; порог при P≥0.90 ≈ 0.4248, Recall ≈ 0.7036.\n",
    "* Изменения vs базовая: ΔPR-AUC ≈ +0.0026 / +0.0014; ΔRecall@P≥0.90 ≈ +0.0078 / +0.0079. Порог существенно смещается (ожидаемо при калибровке).\n",
    "\n",
    "### Интерпретация\n",
    "* Калибровка улучшает соответствие вероятностей и даёт небольшой прирост ранжирования; оба варианта сопоставимы по качеству. Рост Recall при фиксированном Precision означает меньше пропущенных мошенничеств при неизменной доле ложноположительных — прямое снижение операционных потерь.\n",
    "* Наблюдаемые приросты невелики и потенциально находятся на границе статистической значимости — их корректно подтвердить бутстрепом.\n",
    "\n",
    "### Рекомендации\n",
    "1.\tЗафиксировать пороговую политику при Precision ≥ 0.90 с калиброванным скором; версионировать калибровщик и порог.\n",
    "2.\tВыбрать вариант калибровки по калибровочным метрикам: сравнить ECE и Brier score, а также reliability curve; выбрать вариант с лучшей калибровкой при равном PR-AUC.\n",
    "3.\tМониторинг и обслуживание: контролировать drift (PSI, ECE), перекалибровывать по скользящему окну (например, ежемесячно или при росте ECE >50%).\n",
    "4.\tСегментные пороги (над калиброванным скором): отдельные пороги для cross-border, high-risk vendor, ночные часы — для дополнительного прироста Recall при заданной Precision.\n",
    "5.\tПроверка значимости: выполнить бутстреп (B≥1000) для ΔPR-AUC и ΔRecall@P≥0.90; считать эффект подтверждённым, если 95% ДИ не пересекает 0.\n",
    "\n",
    "Итог: гипотеза H5 подтверждена. Калибровка при целевом Precision ≥ 0.90 даёт ≈ +0.8 п.п. Recall и небольшой прирост ROC/PR-AUC. Рекомендуется внедрять калиброванный скоринг с регламентом перекалибровки и постоянным мониторингом калибровки."
   ]
  }
 ],
 "metadata": {
  "kernelspec": {
   "display_name": ".venv",
   "language": "python",
   "name": "python3"
  },
  "language_info": {
   "codemirror_mode": {
    "name": "ipython",
    "version": 3
   },
   "file_extension": ".py",
   "mimetype": "text/x-python",
   "name": "python",
   "nbconvert_exporter": "python",
   "pygments_lexer": "ipython3",
   "version": "3.9.6"
  }
 },
 "nbformat": 4,
 "nbformat_minor": 5
}
