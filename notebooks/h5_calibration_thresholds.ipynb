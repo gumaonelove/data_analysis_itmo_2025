{
 "cells": [
  {
   "cell_type": "markdown",
   "metadata": {},
   "source": [
    "# H5: Калибровка и пороги\n",
    "\n",
    "**H5 (Tech):** Калибровка вероятностей + пороги по требуемой точности (например, Precision≥0.9) снижает операционные издержки."
   ]
  },
  {
   "cell_type": "code",
   "execution_count": 1,
   "metadata": {},
   "outputs": [
    {
     "name": "stdout",
     "output_type": "stream",
     "text": [
      "Project root: /Users/gumerovbr/Documents/GitHub/data_analysis_itmo_2025\n"
     ]
    }
   ],
   "source": [
    "import sys\n",
    "from pathlib import Path\n",
    "ROOT = Path().resolve()\n",
    "if not (ROOT/'src').exists(): ROOT = ROOT.parent\n",
    "sys.path.insert(0, str(ROOT))\n",
    "print('Project root:', ROOT)\n"
   ]
  },
  {
   "cell_type": "code",
   "execution_count": 2,
   "metadata": {},
   "outputs": [
    {
     "name": "stderr",
     "output_type": "stream",
     "text": [
      "/Users/gumerovbr/Documents/GitHub/data_analysis_itmo_2025/.venv/lib/python3.9/site-packages/sklearn/linear_model/_linear_loss.py:209: RuntimeWarning: divide by zero encountered in matmul\n",
      "  norm2_w = weights @ weights if weights.ndim == 1 else squared_norm(weights)\n",
      "/Users/gumerovbr/Documents/GitHub/data_analysis_itmo_2025/.venv/lib/python3.9/site-packages/sklearn/linear_model/_linear_loss.py:209: RuntimeWarning: overflow encountered in matmul\n",
      "  norm2_w = weights @ weights if weights.ndim == 1 else squared_norm(weights)\n",
      "/Users/gumerovbr/Documents/GitHub/data_analysis_itmo_2025/.venv/lib/python3.9/site-packages/sklearn/linear_model/_linear_loss.py:209: RuntimeWarning: invalid value encountered in matmul\n",
      "  norm2_w = weights @ weights if weights.ndim == 1 else squared_norm(weights)\n",
      "/Users/gumerovbr/Documents/GitHub/data_analysis_itmo_2025/.venv/lib/python3.9/site-packages/sklearn/linear_model/_linear_loss.py:209: RuntimeWarning: divide by zero encountered in matmul\n",
      "  norm2_w = weights @ weights if weights.ndim == 1 else squared_norm(weights)\n",
      "/Users/gumerovbr/Documents/GitHub/data_analysis_itmo_2025/.venv/lib/python3.9/site-packages/sklearn/linear_model/_linear_loss.py:209: RuntimeWarning: overflow encountered in matmul\n",
      "  norm2_w = weights @ weights if weights.ndim == 1 else squared_norm(weights)\n",
      "/Users/gumerovbr/Documents/GitHub/data_analysis_itmo_2025/.venv/lib/python3.9/site-packages/sklearn/linear_model/_linear_loss.py:209: RuntimeWarning: invalid value encountered in matmul\n",
      "  norm2_w = weights @ weights if weights.ndim == 1 else squared_norm(weights)\n",
      "/Users/gumerovbr/Documents/GitHub/data_analysis_itmo_2025/.venv/lib/python3.9/site-packages/sklearn/linear_model/_linear_loss.py:209: RuntimeWarning: divide by zero encountered in matmul\n",
      "  norm2_w = weights @ weights if weights.ndim == 1 else squared_norm(weights)\n",
      "/Users/gumerovbr/Documents/GitHub/data_analysis_itmo_2025/.venv/lib/python3.9/site-packages/sklearn/linear_model/_linear_loss.py:209: RuntimeWarning: overflow encountered in matmul\n",
      "  norm2_w = weights @ weights if weights.ndim == 1 else squared_norm(weights)\n",
      "/Users/gumerovbr/Documents/GitHub/data_analysis_itmo_2025/.venv/lib/python3.9/site-packages/sklearn/linear_model/_linear_loss.py:209: RuntimeWarning: invalid value encountered in matmul\n",
      "  norm2_w = weights @ weights if weights.ndim == 1 else squared_norm(weights)\n",
      "/Users/gumerovbr/Documents/GitHub/data_analysis_itmo_2025/.venv/lib/python3.9/site-packages/sklearn/linear_model/_linear_loss.py:209: RuntimeWarning: divide by zero encountered in matmul\n",
      "  norm2_w = weights @ weights if weights.ndim == 1 else squared_norm(weights)\n",
      "/Users/gumerovbr/Documents/GitHub/data_analysis_itmo_2025/.venv/lib/python3.9/site-packages/sklearn/linear_model/_linear_loss.py:209: RuntimeWarning: overflow encountered in matmul\n",
      "  norm2_w = weights @ weights if weights.ndim == 1 else squared_norm(weights)\n",
      "/Users/gumerovbr/Documents/GitHub/data_analysis_itmo_2025/.venv/lib/python3.9/site-packages/sklearn/linear_model/_linear_loss.py:209: RuntimeWarning: invalid value encountered in matmul\n",
      "  norm2_w = weights @ weights if weights.ndim == 1 else squared_norm(weights)\n"
     ]
    },
    {
     "data": {
      "text/plain": [
       "({'roc_auc': 0.5001122214983779,\n",
       "  'pr_auc': 0.1980998640895631,\n",
       "  'threshold_at_precision': 0.9,\n",
       "  'thr_value': None,\n",
       "  'recall_at_precision': None,\n",
       "  'precision_achieved': None},\n",
       " {'roc_auc': 0.4991919410385204,\n",
       "  'pr_auc': 0.19779356719251343,\n",
       "  'threshold_at_precision': 0.9,\n",
       "  'thr_value': None,\n",
       "  'recall_at_precision': None,\n",
       "  'precision_achieved': None})"
      ]
     },
     "execution_count": 2,
     "metadata": {},
     "output_type": "execute_result"
    }
   ],
   "source": [
    "import pandas as pd, numpy as np\n",
    "from pathlib import Path\n",
    "from sklearn.pipeline import Pipeline\n",
    "from sklearn.calibration import CalibratedClassifierCV\n",
    "from src.data import load_transactions, load_fx\n",
    "from src.currency import convert_to_usd\n",
    "from src.features import unpack_last_hour_activity, add_basic_time_features, customer_velocity\n",
    "from src.validation import split_time_aware\n",
    "from src.pipeline import build_preprocessor, build_logreg\n",
    "from src.eval import eval_pack\n",
    "\n",
    "DATA=Path('../data'); TX=DATA/'transaction_fraud_data.parquet'; FX=DATA/'historical_currency_exchange.parquet'\n",
    "df = load_transactions(TX); fx = load_fx(FX)\n",
    "df = convert_to_usd(df, fx); df = unpack_last_hour_activity(df); df = add_basic_time_features(df); df = customer_velocity(df)\n",
    "\n",
    "train, test = split_time_aware(df)\n",
    "y_tr, y_te = train['is_fraud'].astype(int), test['is_fraud'].astype(int)\n",
    "X_tr, X_te = train.drop(columns=['is_fraud']), test.drop(columns=['is_fraud'])\n",
    "\n",
    "base = Pipeline([('prep', build_preprocessor(X_tr)), ('clf', build_logreg())]).fit(X_tr, y_tr)\n",
    "p_base = base.predict_proba(X_te)[:,1]\n",
    "eval_base = eval_pack(y_te, p_base)\n",
    "\n",
    "cal = CalibratedClassifierCV(base, method='isotonic', cv=3)\n",
    "cal.fit(X_tr, y_tr)\n",
    "p_cal = cal.predict_proba(X_te)[:,1]\n",
    "eval_cal = eval_pack(y_te, p_cal)\n",
    "eval_base, eval_cal"
   ]
  },
  {
   "cell_type": "markdown",
   "id": "5a18edbf",
   "metadata": {},
   "source": [
    "### Выводы по H5 (калибровка и пороги)\n",
    "\n",
    "**Факты**\n",
    "- До калибровки: ROC-AUC ≈ **0.5001**, PR-AUC ≈ **0.19810**; порог при Precision ≥ 0.90 **не найден**.\n",
    "- После изотонической калибровки: ROC-AUC ≈ **0.4992**, PR-AUC ≈ **0.19779**; порог при Precision ≥ 0.90 **не найден**.\n",
    "- Разница в качестве пренебрежимо мала и находится на уровне случайных флуктуаций; ранжирование почти не изменилось.\n",
    "\n",
    "**Интерпретация**\n",
    "- Калибровка **не создаёт сигнал** — она лишь «выпрямляет» шкалу вероятностей, если у базовой модели уже есть информативное ранжирование. При отсутствии сигнала (ROC-AUC ~ 0.5, PR-AUC ~ prevalence) калибровка ожидаемо **не помогает** и может слегка ухудшать ранжирование из-за сглаживания.\n",
    "- Недостижимость Precision ≥ 0.90 указывает на **слишком слабое ранжирование** вероятностей; сначала нужен прирост качества модели, затем — калибровка.\n",
    "\n",
    "**Рекомендации**\n",
    "1. **Сначала повысить качество модели**, затем калибровать:\n",
    "   - усилить фичи (velocity без утечки, rarity/newness, взаимодействия CNP×CB×HRV, графовые признаки с историческими агрегатами);\n",
    "   - смягчить OHE `min_frequency` (например, до 10) и проверить FX-конвертацию.\n",
    "2. **Правильная процедура калибровки**:\n",
    "   - использовать `CalibratedClassifierCV` c `cv='prefit'` и **отдельным валидационным срезом** (без переобучения на train);\n",
    "   - сравнивать **ECE**/**Brier score** и строить **reliability curve** до/после калибровки.\n",
    "3. **Пороговая политика**:\n",
    "   - при недостижимом Precision ≥ 0.90 рассмотреть **сегментные пороги** (ночные часы, CNP, cross-border, high-risk) и/или временно снизить целевую точность на пилоте (например, до 0.85) с контролем доли фрикции.\n",
    "   - параллельно — **квантильные пороги по amount_usd** как fallback до появления устойчивого модельного сигнала.\n",
    "\n",
    "**Итог:** гипотеза H5 **не подтверждена на текущем качестве модели**. К калибровке вернёмся после улучшения ранжирования (рост PR-AUC над уровнем базовой доли fraud)."
   ]
  },
  {
   "cell_type": "markdown",
   "id": "f9cac996",
   "metadata": {},
   "source": []
  }
 ],
 "metadata": {
  "kernelspec": {
   "display_name": ".venv",
   "language": "python",
   "name": "python3"
  },
  "language_info": {
   "codemirror_mode": {
    "name": "ipython",
    "version": 3
   },
   "file_extension": ".py",
   "mimetype": "text/x-python",
   "name": "python",
   "nbconvert_exporter": "python",
   "pygments_lexer": "ipython3",
   "version": "3.9.6"
  }
 },
 "nbformat": 4,
 "nbformat_minor": 5
}
